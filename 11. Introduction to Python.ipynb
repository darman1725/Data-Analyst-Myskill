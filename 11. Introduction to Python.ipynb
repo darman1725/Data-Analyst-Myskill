{
  "nbformat": 4,
  "nbformat_minor": 0,
  "metadata": {
    "colab": {
      "provenance": [],
      "include_colab_link": true
    },
    "kernelspec": {
      "name": "python3",
      "display_name": "Python 3"
    },
    "language_info": {
      "name": "python"
    }
  },
  "cells": [
    {
      "cell_type": "markdown",
      "metadata": {
        "id": "view-in-github",
        "colab_type": "text"
      },
      "source": [
        "<a href=\"https://colab.research.google.com/github/darman1725/Data-Analyst-Myskill/blob/main/9.%20Introduction%20to%20Python.ipynb\" target=\"_parent\"><img src=\"https://colab.research.google.com/assets/colab-badge.svg\" alt=\"Open In Colab\"/></a>"
      ]
    },
    {
      "cell_type": "markdown",
      "source": [
        "# Getting Started\n",
        "\n",
        "Let's start with usual introduction to programming language!\\\n",
        "(In slightly different way)"
      ],
      "metadata": {
        "id": "WnmRMXnbTyD4"
      }
    },
    {
      "cell_type": "code",
      "execution_count": null,
      "metadata": {
        "id": "GwVNwWt567MN"
      },
      "outputs": [],
      "source": [
        "print(\"Halo Dek!\")"
      ]
    },
    {
      "cell_type": "markdown",
      "source": [
        "# Data Types\n",
        "\n",
        "There are several (singular) data types in Python.\\\n",
        "First is numeric data type, like integer, float, decimal, etc.\n",
        "\n",
        "It is written as is, without quotes (\"without this\" or 'this')."
      ],
      "metadata": {
        "id": "GsPDL2OqfGrb"
      }
    },
    {
      "cell_type": "code",
      "source": [
        "# run this cell to see the result\n",
        "\n",
        "print(5)\n",
        "print(-13)\n",
        "print(1.441)"
      ],
      "metadata": {
        "id": "woYyBDmF9Sxa"
      },
      "execution_count": null,
      "outputs": []
    },
    {
      "cell_type": "markdown",
      "source": [
        "We can perform basic arithmetic operation to numeric."
      ],
      "metadata": {
        "id": "-BJ2U08Efw-g"
      }
    },
    {
      "cell_type": "code",
      "source": [
        "# run this cell and identify the arithmetic operators below\n",
        "\n",
        "print(5+2)\n",
        "print(5-2)\n",
        "print(5*2)\n",
        "print(5**2)\n",
        "print(5/2)\n",
        "print(5//2)\n",
        "print(5%2)"
      ],
      "metadata": {
        "id": "enn6Ir5iffS3"
      },
      "execution_count": null,
      "outputs": []
    },
    {
      "cell_type": "markdown",
      "source": [
        "The second data type is string.\\\n",
        "To create a string data, use quotes.\n",
        "\n",
        "\n",
        "\n"
      ],
      "metadata": {
        "id": "LYGryolyge-Y"
      }
    },
    {
      "cell_type": "code",
      "source": [
        "print('This is a string, enclosed by a single quotes')\n",
        "print(\"This is also a string, enclosed by a double quotes\")\n",
        "print('''This one is also a string, but uses three single quotes''')\n",
        "print(\"\"\"Another string, this time uses three double quotes\"\"\")"
      ],
      "metadata": {
        "id": "GjZsGAbPgVvL"
      },
      "execution_count": null,
      "outputs": []
    },
    {
      "cell_type": "markdown",
      "source": [
        "As we see above, there are 4 types of quotes in Python.\\\n",
        "Let's try to understand them."
      ],
      "metadata": {
        "id": "8-82cpVqhI4c"
      }
    },
    {
      "cell_type": "code",
      "source": [
        "# what if you want to print something containing a single quotes?\n",
        "# easy, just enclose them using double quote!\n",
        "\n",
        "print(\"I need to print this 'single quotes'\")"
      ],
      "metadata": {
        "id": "He9TxKIch9xh"
      },
      "execution_count": null,
      "outputs": []
    },
    {
      "cell_type": "code",
      "source": [
        "# similar when you want to print double quotes,\n",
        "# just enclose them in single quotes\n",
        "\n",
        "print('now I will print this \"double quotes\"')"
      ],
      "metadata": {
        "id": "bxxh7aRxiWsN"
      },
      "execution_count": null,
      "outputs": []
    },
    {
      "cell_type": "code",
      "source": [
        "# the thing is, you have to be consistent of which one\n",
        "# is the string, which one is the enclosure.\n",
        "# so you can't use same type of quotes as both string and\n",
        "# enclosure\n",
        "\n",
        "print(\"this will return an \"error\"\")"
      ],
      "metadata": {
        "id": "LrBmmfilidq_"
      },
      "execution_count": null,
      "outputs": []
    },
    {
      "cell_type": "code",
      "source": [
        "print('this one will also return an 'error'')"
      ],
      "metadata": {
        "id": "66TeLvIDjwTV"
      },
      "execution_count": null,
      "outputs": []
    },
    {
      "cell_type": "code",
      "source": [
        "print(\"mixing 'this' and \"this\" will also return an error\")"
      ],
      "metadata": {
        "id": "5Awti6h8j2ZF"
      },
      "execution_count": null,
      "outputs": []
    },
    {
      "cell_type": "code",
      "source": [
        "# so, what if you need to mix between those two quotes?\n",
        "# here is when three quotes come into the stage\n",
        "\n",
        "print('''try to \"print\" this 'sentence' with so \"many\" combination of 'quotes'.''')"
      ],
      "metadata": {
        "id": "r2noI8bwj8Rr"
      },
      "execution_count": null,
      "outputs": []
    },
    {
      "cell_type": "code",
      "source": [
        "# just be careful that the following one will fail\n",
        "# look at the series of four single quotes at the end\n",
        "print('''try to \"print\" this 'sentence' with so \"many\" combination of 'quotes'''')"
      ],
      "metadata": {
        "id": "9fl78IC0kr8g"
      },
      "execution_count": null,
      "outputs": []
    },
    {
      "cell_type": "code",
      "source": [
        "# you can make variation using three double quotes\n",
        "print(\"\"\"try to \"print\" this 'sentence' with so \"many\" combination of 'quotes'\"\"\")\n",
        "\n",
        "# but again, be careful to not make the code \"confused\" with the enclosures"
      ],
      "metadata": {
        "id": "ooMAVkHRlBof"
      },
      "execution_count": null,
      "outputs": []
    },
    {
      "cell_type": "code",
      "source": [
        "# the actual useful power of three quotes are multiple lines printing\n",
        "print(\"\"\"this\n",
        "will\n",
        "print\n",
        "several\n",
        "lines\"\"\")"
      ],
      "metadata": {
        "id": "ZjGwGIEFlRRy"
      },
      "execution_count": null,
      "outputs": []
    },
    {
      "cell_type": "code",
      "source": [
        "# whereas using one quotes will fail\n",
        "print(\"can\n",
        "you\n",
        "print\n",
        "this\n",
        "without\n",
        "error?\")"
      ],
      "metadata": {
        "id": "w0w77At0lbOK"
      },
      "execution_count": null,
      "outputs": []
    },
    {
      "cell_type": "code",
      "source": [
        "# you can write the code in several lines using single quotes\n",
        "# by adding escape character \\ (backslash)\n",
        "# but it won't give newlines to the result\n",
        "\n",
        "print(\"this\\\n",
        "will\\\n",
        "print\\\n",
        "one\\\n",
        "line\")"
      ],
      "metadata": {
        "id": "piLqkkTclkOJ"
      },
      "execution_count": null,
      "outputs": []
    },
    {
      "cell_type": "code",
      "source": [
        "# but you can do this workaround\n",
        "\n",
        "print(\"this\\nbackslash n\\nis\\nnewlines\\ncharacter\")"
      ],
      "metadata": {
        "id": "MSzleAGTlqSx"
      },
      "execution_count": null,
      "outputs": []
    },
    {
      "cell_type": "code",
      "source": [
        "# or this\n",
        "print(\"print\")\n",
        "print(\"several\")\n",
        "print(\"lines\")"
      ],
      "metadata": {
        "id": "Fms4QKcImDrP"
      },
      "execution_count": null,
      "outputs": []
    },
    {
      "cell_type": "markdown",
      "source": [
        "We can do \"addition\" (a.k.a contatenate) operation to the strings using +."
      ],
      "metadata": {
        "id": "9setyNNTnJ8i"
      }
    },
    {
      "cell_type": "code",
      "source": [
        "print(\"please\" + \" run \" + \"this\" + \" \" + \"cell\")\n",
        "print(\"t\" + \"h\" + \"a\" + \"n\" + \"k\" + \"s\" + \"!\")"
      ],
      "metadata": {
        "id": "m3unm-Rfm3SX"
      },
      "execution_count": null,
      "outputs": []
    },
    {
      "cell_type": "markdown",
      "source": [
        "The third data type is boolean.\\\n",
        "The values are True and False (without quotes).\\\n",
        "Notice that the first letter is uppercase and the others are lowercase.\\\n",
        "true, false, TRUE, FALSE won't work as boolean, because Python will\\\n",
        "interpret them as variables."
      ],
      "metadata": {
        "id": "ZGxrStzzn6NN"
      }
    },
    {
      "cell_type": "code",
      "source": [
        "print(True)"
      ],
      "metadata": {
        "id": "Z4oX2fYdnl7R"
      },
      "execution_count": null,
      "outputs": []
    },
    {
      "cell_type": "code",
      "source": [
        "print(False)"
      ],
      "metadata": {
        "id": "9eY3hEPBoVJw"
      },
      "execution_count": null,
      "outputs": []
    },
    {
      "cell_type": "code",
      "source": [
        "print(true)"
      ],
      "metadata": {
        "id": "dEgVQRNooV0y"
      },
      "execution_count": null,
      "outputs": []
    },
    {
      "cell_type": "code",
      "source": [
        "print(false)"
      ],
      "metadata": {
        "id": "oWMV_rx5oWP-"
      },
      "execution_count": null,
      "outputs": []
    },
    {
      "cell_type": "code",
      "source": [
        "print(TRUE)"
      ],
      "metadata": {
        "id": "skUnKNn8oW4m"
      },
      "execution_count": null,
      "outputs": []
    },
    {
      "cell_type": "code",
      "source": [
        "print(FALSE)"
      ],
      "metadata": {
        "id": "q2gBrqv6oY64"
      },
      "execution_count": null,
      "outputs": []
    },
    {
      "cell_type": "markdown",
      "source": [
        "Python can interpret True and False automatically (without explicit casting) as 1 or 0."
      ],
      "metadata": {
        "id": "s-sNMPKEok9x"
      }
    },
    {
      "cell_type": "code",
      "source": [
        "print(True + 2)"
      ],
      "metadata": {
        "id": "dzWE9cu8oaCF"
      },
      "execution_count": null,
      "outputs": []
    },
    {
      "cell_type": "code",
      "source": [
        "print(False + True*3)"
      ],
      "metadata": {
        "id": "g_Im095hosHL"
      },
      "execution_count": null,
      "outputs": []
    },
    {
      "cell_type": "markdown",
      "source": [
        "But when any non zero numbers are casted as boolean,\\\n",
        "they will return as True (including string type).\n",
        "\n",
        "That's because of this simple logic:\n",
        "* 0 is False\n",
        "* not 0 (literally everything that is not numeric zero) is True"
      ],
      "metadata": {
        "id": "emUB6T-nqy9C"
      }
    },
    {
      "cell_type": "code",
      "source": [
        "print(bool(0))\n",
        "print(bool(1))\n",
        "print(bool(2))\n",
        "print(bool(-2))\n",
        "print(bool(0.2312414))\n",
        "print(bool(\"abc\"))\n",
        "print(bool(\"123\"))\n",
        "print(bool(\"0\"))"
      ],
      "metadata": {
        "id": "FqQQl0qVq8Ae"
      },
      "execution_count": null,
      "outputs": []
    },
    {
      "cell_type": "markdown",
      "source": [
        "Logical expressions also return boolean result."
      ],
      "metadata": {
        "id": "LeABeFPSpONs"
      }
    },
    {
      "cell_type": "code",
      "source": [
        "print(5 > 2)\n",
        "print(5 == 3)\n",
        "print(-4 >= -1)\n",
        "print(-10 <= -10)\n",
        "print(5 == \"5\")\n",
        "print(True > False)\n",
        "print(True and False)\n",
        "print(not (True or False) == (not True and not False))"
      ],
      "metadata": {
        "id": "pNWWpZMIovNm"
      },
      "execution_count": null,
      "outputs": []
    },
    {
      "cell_type": "markdown",
      "source": [
        "Now we will learn how to declare variables.\\\n",
        "In Python, declaring variables is very simple."
      ],
      "metadata": {
        "id": "ms9U5Fyws7Ff"
      }
    },
    {
      "cell_type": "code",
      "source": [
        "a = 5\n",
        "b = \"5\"\n",
        "\n",
        "print(a)\n",
        "print(b)"
      ],
      "metadata": {
        "id": "mTlpW8Rvp6Wn"
      },
      "execution_count": null,
      "outputs": []
    },
    {
      "cell_type": "markdown",
      "source": [
        "We don't need to declare data types as Python will automatically\\\n",
        "assign them depending on how we write them.\n",
        "\n",
        "Run these three cells to compare them."
      ],
      "metadata": {
        "id": "rP82uJIptPtI"
      }
    },
    {
      "cell_type": "code",
      "source": [
        "print(a + 5)"
      ],
      "metadata": {
        "id": "MI9uhHXJtGVy"
      },
      "execution_count": null,
      "outputs": []
    },
    {
      "cell_type": "code",
      "source": [
        "print(b + \"5\")"
      ],
      "metadata": {
        "id": "MZ7xTRiGte53"
      },
      "execution_count": null,
      "outputs": []
    },
    {
      "cell_type": "code",
      "source": [
        "print(b + 5)"
      ],
      "metadata": {
        "id": "Px2ttQH8tfxk"
      },
      "execution_count": null,
      "outputs": []
    },
    {
      "cell_type": "markdown",
      "source": [
        "Variables declaration is case-sensitive."
      ],
      "metadata": {
        "id": "Lk1zCKtbtr4Y"
      }
    },
    {
      "cell_type": "code",
      "source": [
        "c = \"lower c\"\n",
        "C = \"UPPER C\"\n",
        "\n",
        "print(c)\n",
        "print(C)"
      ],
      "metadata": {
        "id": "dcLNSfedtjsk"
      },
      "execution_count": null,
      "outputs": []
    },
    {
      "cell_type": "markdown",
      "source": [
        "To modify a variable, simply rewrite them.\\\n",
        "To delete a variable, use command **del**."
      ],
      "metadata": {
        "id": "98R54Tiyupqy"
      }
    },
    {
      "cell_type": "code",
      "source": [
        "# rewrite variable c\n",
        "c = \"new lower c\"\n",
        "\n",
        "print(c)"
      ],
      "metadata": {
        "id": "e9nY0gsFt8bV"
      },
      "execution_count": null,
      "outputs": []
    },
    {
      "cell_type": "code",
      "source": [
        "# delete variable C\n",
        "del C\n",
        "\n",
        "print(C)"
      ],
      "metadata": {
        "id": "WklS5QkNu0AC"
      },
      "execution_count": null,
      "outputs": []
    },
    {
      "cell_type": "markdown",
      "source": [
        "# Collection of Objects\n",
        "\n",
        "A collection is an object that contains another objects.\n",
        "\n",
        "The first collection that we will see is *tuple*.\\\n",
        "Tuples are **ordered** collection of objects.\\\n",
        "There are various ways to create tuples."
      ],
      "metadata": {
        "id": "LLbY9snJTkRy"
      }
    },
    {
      "cell_type": "code",
      "source": [
        "# generally, use regular brackets () to create tuples\n",
        "tuple1 = (1, 2, \"three\", 4)\n",
        "tuple2 = tuple((1, True, 1, \"false\"))\n",
        "tuple3 = () # creates an empty tuple\n",
        "print(tuple1)\n",
        "print(tuple2)\n",
        "print(tuple3)"
      ],
      "metadata": {
        "id": "HXCVIo5-u3vo"
      },
      "execution_count": null,
      "outputs": []
    },
    {
      "cell_type": "markdown",
      "source": [
        "Objects or elements in tuples can be called by using index.\\\n",
        "Note that Python index starts from 0.\\\n",
        "Last element can be indexed as -1."
      ],
      "metadata": {
        "id": "eEVCTO5KUs-2"
      }
    },
    {
      "cell_type": "code",
      "source": [
        "print(tuple1[1])\n",
        "print(tuple2[1])\n",
        "print(tuple2[-1])"
      ],
      "metadata": {
        "id": "VxwylaXtUnpm"
      },
      "execution_count": null,
      "outputs": []
    },
    {
      "cell_type": "markdown",
      "source": [
        "What if we call an element that is out of index range?"
      ],
      "metadata": {
        "id": "NGsDZ0NJVBMy"
      }
    },
    {
      "cell_type": "code",
      "source": [
        "print(tuple1[5])"
      ],
      "metadata": {
        "id": "5huyI0PsU-ZE"
      },
      "execution_count": null,
      "outputs": []
    },
    {
      "cell_type": "markdown",
      "source": [
        "What if we call an element from empty tuple?"
      ],
      "metadata": {
        "id": "H4zNl6yNVSqM"
      }
    },
    {
      "cell_type": "code",
      "source": [
        "print(tuple3[0])"
      ],
      "metadata": {
        "id": "g4SXuHGRVJzd"
      },
      "execution_count": null,
      "outputs": []
    },
    {
      "cell_type": "markdown",
      "source": [
        "Tuples are immutable.\\\n",
        "Once a tuple is created, we can't modify it."
      ],
      "metadata": {
        "id": "41BzeR-QVy4U"
      }
    },
    {
      "cell_type": "code",
      "source": [
        "# try to run this\n",
        "tuple4 = ('a', 'b', 'c')\n",
        "tuple4[0] = 'A'\n",
        "print(tuple4)"
      ],
      "metadata": {
        "id": "kpi0i9lGVe9d"
      },
      "execution_count": null,
      "outputs": []
    },
    {
      "cell_type": "markdown",
      "source": [
        "The only way to \"modify\" a tuple is by declaring it as a new tuple."
      ],
      "metadata": {
        "id": "sROtNDwCW00_"
      }
    },
    {
      "cell_type": "code",
      "source": [
        "tuple4 = ('a', 'b', 'c')\n",
        "tuple4 = ('A', 'b', 'c')\n",
        "# or you can also do this\n",
        "# tuple4 = ('A',) + tuple4[1:]\n",
        "print(tuple4)"
      ],
      "metadata": {
        "id": "PV1IgwnlWwI_"
      },
      "execution_count": null,
      "outputs": []
    },
    {
      "cell_type": "markdown",
      "source": [
        "Since tuples are ordered collection, we can sort them using sorted() function."
      ],
      "metadata": {
        "id": "GXQ-tJKbXorv"
      }
    },
    {
      "cell_type": "code",
      "source": [
        "tuple5 = (1, 30000, -1)\n",
        "# print these three lines and figure out the differences\n",
        "print(sorted(tuple5))\n",
        "print(sorted(tuple5, reverse = True))\n",
        "print(tuple5)"
      ],
      "metadata": {
        "id": "CL8n-oPYXHI5"
      },
      "execution_count": null,
      "outputs": []
    },
    {
      "cell_type": "markdown",
      "source": [
        "The next collection is *set*.\n",
        "\n",
        "Sets are **unordered** and **unique** collection of objects.\\\n",
        "There are various ways to create sets."
      ],
      "metadata": {
        "id": "OlYKqIXvYCIN"
      }
    },
    {
      "cell_type": "code",
      "source": [
        "# generally, use curly brackets {} to create sets\n",
        "set1 = {\"three\", 1, 4, 2}\n",
        "set2 = set((1, \"1\", 1, 2))\n",
        "set3 = {} # creates an empty set\n",
        "print(set1)\n",
        "print(set2)\n",
        "print(set3)"
      ],
      "metadata": {
        "id": "e0W73NDFX8ON"
      },
      "execution_count": null,
      "outputs": []
    },
    {
      "cell_type": "markdown",
      "source": [
        "Since sets are unordered collection, we can't call the element by index."
      ],
      "metadata": {
        "id": "5IVwMgnyYz-T"
      }
    },
    {
      "cell_type": "code",
      "source": [
        "print(set1[2])"
      ],
      "metadata": {
        "id": "za4CPauTYwDu"
      },
      "execution_count": null,
      "outputs": []
    },
    {
      "cell_type": "markdown",
      "source": [
        "Sets are mutable: the elements inside a set can be modified.\n",
        "\n",
        "Common methods are **.add()**, **.discard()**, and **.clear()**."
      ],
      "metadata": {
        "id": "8EdK_D-oZBCJ"
      }
    },
    {
      "cell_type": "code",
      "source": [
        "set4 = {3, 5, \"ten\", False}\n",
        "\n",
        "set4.add(9)\n",
        "print(set4)\n",
        "\n",
        "set4.discard(\"ten\")\n",
        "print(set4)\n",
        "\n",
        "set4.discard(\"huh?\")\n",
        "print(set4)\n",
        "\n",
        "set4.clear()\n",
        "print(set4)"
      ],
      "metadata": {
        "id": "HcCqxx_7Y5_i"
      },
      "execution_count": null,
      "outputs": []
    },
    {
      "cell_type": "markdown",
      "source": [
        "Sets in Python also follow set operations like mathematical sets.\\\n",
        "Try to find the reference and explore it by yourself!"
      ],
      "metadata": {
        "id": "SWtCo_HXaQFq"
      }
    },
    {
      "cell_type": "markdown",
      "source": [
        "The next collections are *dictionary*.\\\n",
        "This collection is key-value pair of objects."
      ],
      "metadata": {
        "id": "FIud_yKKatw-"
      }
    },
    {
      "cell_type": "code",
      "source": [
        "# dictionaries also use curly brackets {} to be created\n",
        "\n",
        "luffy = {\n",
        "    \"Full Name\": \"Monkey D. Luffy\",\n",
        "    \"Occupation\": \"Pirate\",\n",
        "    \"Age\": 19,\n",
        "    \"Origin\": \"East Blue\"\n",
        "}\n",
        "\n",
        "print(luffy[\"Full Name\"])\n",
        "print(luffy[\"Age\"])"
      ],
      "metadata": {
        "id": "d86zQpklZwx_"
      },
      "execution_count": null,
      "outputs": []
    },
    {
      "cell_type": "markdown",
      "source": [
        "What if we call non existing key from a dictionary?"
      ],
      "metadata": {
        "id": "WYf-DyF8blsa"
      }
    },
    {
      "cell_type": "code",
      "source": [
        "print(luffy[\"Devil Fruit\"])"
      ],
      "metadata": {
        "id": "Qizbt8qFbRvT"
      },
      "execution_count": null,
      "outputs": []
    },
    {
      "cell_type": "markdown",
      "source": [
        "The last type of collection that we will learn is the ones that we will use the most: *list*.\n",
        "\n",
        "Lists are **ordered** and **mutable** colletion of objects.\\\n",
        "There are various ways to create a list."
      ],
      "metadata": {
        "id": "xtmw3HXec4A_"
      }
    },
    {
      "cell_type": "code",
      "source": [
        "# generally, use square brackets [] to create lists\n",
        "list1 = [1, 2, 3, 4, 3, 2, 1]\n",
        "list2 = list((\"1\", \"2\", 1, 2))\n",
        "list3 = [] # creates an empty list\n",
        "print(list1)\n",
        "print(list2)\n",
        "print(list3)"
      ],
      "metadata": {
        "id": "eJ-5pNqmcdGo"
      },
      "execution_count": null,
      "outputs": []
    },
    {
      "cell_type": "markdown",
      "source": [
        "Since lists are ordered, we can call them by index.\\\n",
        "We can also sort them in some order."
      ],
      "metadata": {
        "id": "10S1IMZsdqLd"
      }
    },
    {
      "cell_type": "code",
      "source": [
        "print(list1[5])\n",
        "print(sorted(list1))"
      ],
      "metadata": {
        "id": "qKygdUzWdd1W"
      },
      "execution_count": null,
      "outputs": []
    },
    {
      "cell_type": "markdown",
      "source": [
        "Lists are mutable, meaning we can modify the elements inside it.\\\n",
        "We can do direct declaration to any indexed elements, or we can put several methods there."
      ],
      "metadata": {
        "id": "5utqSmTAd34A"
      }
    },
    {
      "cell_type": "code",
      "source": [
        "# direct re-declaration\n",
        "A = [1, 2, 3]\n",
        "A[0] = 3\n",
        "print(A)\n",
        "\n",
        "# use .append() method\n",
        "A.append(4)\n",
        "print(A)\n",
        "\n",
        "# use .remove() method\n",
        "A.remove(3)\n",
        "print(A)\n",
        "\n",
        "# use del command\n",
        "del A[1]\n",
        "print(A)\n",
        "\n",
        "# use + operator\n",
        "A = A + [10, 12, 13, 14]\n",
        "print(A)\n",
        "\n",
        "# use .pop() method (what is it?)\n",
        "A.pop(0)\n",
        "print(A)"
      ],
      "metadata": {
        "id": "E_hy_xUidzNC"
      },
      "execution_count": null,
      "outputs": []
    },
    {
      "cell_type": "markdown",
      "source": [
        "To print subset from lists (also working for tuples), we can slice the lists."
      ],
      "metadata": {
        "id": "n5S7Izd8fO14"
      }
    },
    {
      "cell_type": "code",
      "source": [
        "B = [\"zero\", \"one\", \"two\", \"three\", \"four\", \"five\"]\n",
        "\n",
        "# can you figure out what happen on each line?\n",
        "print(B)\n",
        "print(B[:])\n",
        "print(B[1:3])\n",
        "print(B[:3])\n",
        "print(B[1:])\n",
        "print(B[:-2])\n",
        "print(B[::2])\n",
        "print(B[::-1])"
      ],
      "metadata": {
        "id": "_U5h_2EXd_yO"
      },
      "execution_count": null,
      "outputs": []
    },
    {
      "cell_type": "markdown",
      "source": [
        "# Conditions\n",
        "\n",
        "We will learn how to use **if**, **elif**, and **else** here.\n",
        "\n",
        "First, let's start with **if**."
      ],
      "metadata": {
        "id": "MOiekRZdoMP8"
      }
    },
    {
      "cell_type": "code",
      "source": [
        "a = 5\n",
        "\n",
        "if a > 3:\n",
        "  # indentation is mandatory here\n",
        "  print(f\"{a} is greater than 3\")\n",
        "\n",
        "# actually you can also do it in one line\n",
        "# if a > 3: print(f\"{a} is greater than 3\")"
      ],
      "metadata": {
        "id": "oNoXbJ9ooLgZ"
      },
      "execution_count": null,
      "outputs": []
    },
    {
      "cell_type": "markdown",
      "source": [
        "Compare it with this."
      ],
      "metadata": {
        "id": "k8l0tLWWoow6"
      }
    },
    {
      "cell_type": "code",
      "source": [
        "a = 5\n",
        "\n",
        "if a > 10:\n",
        "  print(f\"{a} is greater than 10\")"
      ],
      "metadata": {
        "id": "sAnZNh2rorG9"
      },
      "execution_count": null,
      "outputs": []
    },
    {
      "cell_type": "markdown",
      "source": [
        "We can define multiple conditions by using **if** and **elif**."
      ],
      "metadata": {
        "id": "HyhJk2rroxfA"
      }
    },
    {
      "cell_type": "code",
      "source": [
        "b = 10\n",
        "\n",
        "if b < 5:\n",
        "  print(f\"{b} is less than 5\")\n",
        "elif b < 15:\n",
        "  print(f\"{b} is less than 15\")\n",
        "elif b < 25:\n",
        "  print(f\"{b} is less than 25\")"
      ],
      "metadata": {
        "id": "XXdgCogToqN3"
      },
      "execution_count": null,
      "outputs": []
    },
    {
      "cell_type": "markdown",
      "source": [
        "As we can see above, if one condition is fulfilled either in **if** or in one of **elif**s,\\\n",
        "the conditional checking ends.\\\n",
        "So though b = 10 is also less than 25 (second **elif**), it won't be executed anymore."
      ],
      "metadata": {
        "id": "Seznx5YwpFmi"
      }
    },
    {
      "cell_type": "markdown",
      "source": [
        "Last, we have **else** when any **if** or **elif** conditions don't meet."
      ],
      "metadata": {
        "id": "emJUyrWEpYkR"
      }
    },
    {
      "cell_type": "code",
      "source": [
        "c = 25\n",
        "\n",
        "# assuming c is always integer\n",
        "if c%2 == 0:\n",
        "  print(f\"{c} is an even integer\")\n",
        "else:\n",
        "  print(f\"{c} is an odd integer\")\n",
        "\n",
        "# try to do the variation using elif"
      ],
      "metadata": {
        "id": "_xl-6bE5pbQR"
      },
      "execution_count": null,
      "outputs": []
    },
    {
      "cell_type": "markdown",
      "source": [
        "# Looping\n",
        "\n",
        "Looping is the way to iterate some tasks through some iteration rules.\n",
        "\n",
        "First type of loop is **for**."
      ],
      "metadata": {
        "id": "-lJYlLs0g_2Z"
      }
    },
    {
      "cell_type": "code",
      "source": [
        "for i in [1,2,3,4,5]:\n",
        "  # indentation is mandatory\n",
        "  print(i)"
      ],
      "metadata": {
        "id": "85eb5osjf3H4"
      },
      "execution_count": null,
      "outputs": []
    },
    {
      "cell_type": "markdown",
      "source": [
        "**For** loops through any iterables, like lists, tuples, sets, etc.\\\n",
        "For unordered collection like sets, it will loop through set elements sorting and non duplicated."
      ],
      "metadata": {
        "id": "l79ZTwd_l0uq"
      }
    },
    {
      "cell_type": "code",
      "source": [
        "for j in (3,5,7):\n",
        "  print(j + 5)"
      ],
      "metadata": {
        "id": "c7LY1BuVlpRM"
      },
      "execution_count": null,
      "outputs": []
    },
    {
      "cell_type": "code",
      "source": [
        "for k in {4,1,3,1,3}:\n",
        "  print(k)"
      ],
      "metadata": {
        "id": "vmxe5xHhmDeD"
      },
      "execution_count": null,
      "outputs": []
    },
    {
      "cell_type": "markdown",
      "source": [
        "We can also print the index using enumerate() function.\\\n",
        "It will return as tuple (index, item).\\\n",
        "We can also directly separate between index and item by calling them both in the beginning."
      ],
      "metadata": {
        "id": "eT7IOd4cmoxL"
      }
    },
    {
      "cell_type": "code",
      "source": [
        "for m in enumerate([\"a\", \"b\", \"c\"]):\n",
        "  print(m)"
      ],
      "metadata": {
        "id": "E940LZGgmNHu"
      },
      "execution_count": null,
      "outputs": []
    },
    {
      "cell_type": "code",
      "source": [
        "for (idx, x) in enumerate([\"a\", \"b\", \"c\"]):\n",
        "  print(f\"The element at index {idx} is {x}\")"
      ],
      "metadata": {
        "id": "By796rACm_I6"
      },
      "execution_count": null,
      "outputs": []
    },
    {
      "cell_type": "markdown",
      "source": [
        "We can also do nested for: for inside a for."
      ],
      "metadata": {
        "id": "9Y0XKN30nZNd"
      }
    },
    {
      "cell_type": "code",
      "source": [
        "A = [2, 3]\n",
        "B = [4, 5]\n",
        "\n",
        "for a in A:\n",
        "  for b in B:\n",
        "    print(f\"{a} times {b} equals to {a*b}\")"
      ],
      "metadata": {
        "id": "D-0fiSQPmykF"
      },
      "execution_count": null,
      "outputs": []
    },
    {
      "cell_type": "markdown",
      "source": [
        "Next kind of looping is **while**.\n",
        "\n",
        "**For** loops through an iterable object, but **while** loops through some condition."
      ],
      "metadata": {
        "id": "oKXUoLpenz70"
      }
    },
    {
      "cell_type": "code",
      "source": [
        "a = 1\n",
        "\n",
        "while a <= 3:\n",
        "  print(a)\n",
        "  a += 1 # this is equivalent to a = a + 1"
      ],
      "metadata": {
        "id": "YJtr0dWFnlJ_"
      },
      "execution_count": null,
      "outputs": []
    },
    {
      "cell_type": "markdown",
      "source": [
        "As we see there, loop will continue to happen as long as the condition meets.\\\n",
        "When the condition no longer meets (when a = 4), the loop stops."
      ],
      "metadata": {
        "id": "HDNcjk2IqmQt"
      }
    },
    {
      "cell_type": "markdown",
      "source": [
        "As **while** will execute when the condition is true, putting **True** as the condition\\\n",
        "will result on infinite loop.\n",
        "\n",
        "To make this bearable, I will put sleep command here so it won't write lines crazily.\\\n",
        "To stop the loop, simply press the stop button."
      ],
      "metadata": {
        "id": "KLHxS5zYq55y"
      }
    },
    {
      "cell_type": "code",
      "source": [
        "import time\n",
        "\n",
        "while True:\n",
        "  print(1)\n",
        "  time.sleep(1)"
      ],
      "metadata": {
        "id": "fZeZvRs4qkqv"
      },
      "execution_count": null,
      "outputs": []
    },
    {
      "cell_type": "markdown",
      "source": [
        "A fun example of while True is making Python clock."
      ],
      "metadata": {
        "id": "X6l9uDc4fHce"
      }
    },
    {
      "cell_type": "code",
      "source": [
        "import time\n",
        "import datetime\n",
        "\n",
        "while True: \n",
        "  print(f\"\\r {datetime.datetime.now().strftime('%H:%M:%S')}\", end = \"\") \n",
        "  time.sleep(1)"
      ],
      "metadata": {
        "id": "JWTDkADhfXvf"
      },
      "execution_count": null,
      "outputs": []
    },
    {
      "cell_type": "markdown",
      "source": [
        "There is another way to stop the loop: using **break**.\n",
        "\n",
        "Let's say we want to know the smallest positive integer $n$ such that $2^n$ is greater than 1 billion.\\\n",
        "Using \"normal\" while, we can do this."
      ],
      "metadata": {
        "id": "sfD7wWFWso0y"
      }
    },
    {
      "cell_type": "code",
      "source": [
        "n = 1\n",
        "\n",
        "while 2**n <= 1000000000:\n",
        "  n += 1\n",
        "\n",
        "print(n)"
      ],
      "metadata": {
        "id": "kjUYVmbzrj6Z"
      },
      "execution_count": null,
      "outputs": []
    },
    {
      "cell_type": "markdown",
      "source": [
        "Using while True with break, we can do this."
      ],
      "metadata": {
        "id": "QHbK-W19tcY4"
      }
    },
    {
      "cell_type": "code",
      "source": [
        "n = 1\n",
        "\n",
        "while True:\n",
        "  if 2**n > 1000000000:\n",
        "    break\n",
        "  \n",
        "  # this line below will not be executed when break happens\n",
        "  n += 1\n",
        "\n",
        "print(n)"
      ],
      "metadata": {
        "id": "_BIbZ6U3tPqY"
      },
      "execution_count": null,
      "outputs": []
    },
    {
      "cell_type": "markdown",
      "source": [
        "Though they look similar, but **while True with break** actually can cater more complex cases.\\\n",
        "Can you think of cases that will suit **while True with break** more?"
      ],
      "metadata": {
        "id": "9zV1tUoxuQ4Y"
      }
    },
    {
      "cell_type": "code",
      "source": [],
      "metadata": {
        "id": "9_AUum3MtuAc"
      },
      "execution_count": null,
      "outputs": []
    }
  ]
}