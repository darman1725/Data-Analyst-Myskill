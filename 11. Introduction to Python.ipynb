{
  "nbformat": 4,
  "nbformat_minor": 0,
  "metadata": {
    "colab": {
      "provenance": [],
      "include_colab_link": true
    },
    "kernelspec": {
      "name": "python3",
      "display_name": "Python 3"
    },
    "language_info": {
      "name": "python"
    }
  },
  "cells": [
    {
      "cell_type": "markdown",
      "metadata": {
        "id": "view-in-github",
        "colab_type": "text"
      },
      "source": [
        "<a href=\"https://colab.research.google.com/github/darman1725/Data-Analyst-Myskill/blob/main/11.%20Introduction%20to%20Python.ipynb\" target=\"_parent\"><img src=\"https://colab.research.google.com/assets/colab-badge.svg\" alt=\"Open In Colab\"/></a>"
      ]
    },
    {
      "cell_type": "markdown",
      "source": [
        "# Getting Started\n",
        "\n",
        "Let's start with usual introduction to programming language!\\\n",
        "(In slightly different way)"
      ],
      "metadata": {
        "id": "WnmRMXnbTyD4"
      }
    },
    {
      "cell_type": "code",
      "execution_count": 1,
      "metadata": {
        "id": "GwVNwWt567MN",
        "colab": {
          "base_uri": "https://localhost:8080/"
        },
        "outputId": "53445ed8-a4e0-49aa-cc8d-e0bc755c4a11"
      },
      "outputs": [
        {
          "output_type": "stream",
          "name": "stdout",
          "text": [
            "Halo Dek!\n"
          ]
        }
      ],
      "source": [
        "print(\"Halo Dek!\")"
      ]
    },
    {
      "cell_type": "markdown",
      "source": [
        "# Data Types\n",
        "\n",
        "There are several (singular) data types in Python.\\\n",
        "First is numeric data type, like integer, float, decimal, etc.\n",
        "\n",
        "It is written as is, without quotes (\"without this\" or 'this')."
      ],
      "metadata": {
        "id": "GsPDL2OqfGrb"
      }
    },
    {
      "cell_type": "code",
      "source": [
        "# run this cell to see the result\n",
        "\n",
        "print(5)\n",
        "print(-13)\n",
        "print(1.441)"
      ],
      "metadata": {
        "id": "woYyBDmF9Sxa",
        "colab": {
          "base_uri": "https://localhost:8080/"
        },
        "outputId": "b9467ed0-3156-4dc0-d238-54c05fc3d842"
      },
      "execution_count": 2,
      "outputs": [
        {
          "output_type": "stream",
          "name": "stdout",
          "text": [
            "5\n",
            "-13\n",
            "1.441\n"
          ]
        }
      ]
    },
    {
      "cell_type": "markdown",
      "source": [
        "We can perform basic arithmetic operation to numeric."
      ],
      "metadata": {
        "id": "-BJ2U08Efw-g"
      }
    },
    {
      "cell_type": "code",
      "source": [
        "# run this cell and identify the arithmetic operators below\n",
        "\n",
        "print(5+2)\n",
        "print(5-2)\n",
        "print(5*2)\n",
        "print(5**2)\n",
        "print(5/2)\n",
        "print(5//2)\n",
        "print(5%2)"
      ],
      "metadata": {
        "id": "enn6Ir5iffS3",
        "colab": {
          "base_uri": "https://localhost:8080/"
        },
        "outputId": "3bb31e78-aede-44b4-f613-b6eba43a938c"
      },
      "execution_count": 3,
      "outputs": [
        {
          "output_type": "stream",
          "name": "stdout",
          "text": [
            "7\n",
            "3\n",
            "10\n",
            "25\n",
            "2.5\n",
            "2\n",
            "1\n"
          ]
        }
      ]
    },
    {
      "cell_type": "code",
      "source": [
        "# contoh lagi\n",
        "\n",
        "print(13/3)\n",
        "\n",
        "# 13 = (4*3) + 1\n",
        "# 13 dibagi 3 hasilnya 4, sisa 1\n",
        "\n",
        "print(13//3) # floor function\n",
        "\n",
        "print(13%3)\n",
        "\n",
        "# contoh lagi\n",
        "print(27**(1/3))\n",
        "\n",
        "print(int(27**(1/3)))\n",
        "print(int(28**(1/3)))\n",
        "\n"
      ],
      "metadata": {
        "colab": {
          "base_uri": "https://localhost:8080/"
        },
        "id": "cB_BcW0-cvXX",
        "outputId": "187b8d11-e876-4f45-bcce-fe64acb6f972"
      },
      "execution_count": 5,
      "outputs": [
        {
          "output_type": "stream",
          "name": "stdout",
          "text": [
            "4.333333333333333\n",
            "4\n",
            "1\n",
            "3.0\n",
            "3\n",
            "3\n"
          ]
        }
      ]
    },
    {
      "cell_type": "markdown",
      "source": [
        "The second data type is string.\\\n",
        "To create a string data, use quotes.\n",
        "\n",
        "\n",
        "\n"
      ],
      "metadata": {
        "id": "LYGryolyge-Y"
      }
    },
    {
      "cell_type": "code",
      "source": [
        "print('This is a string, enclosed by a single quotes')\n",
        "print(\"This is also a string, enclosed by a double quotes\")\n",
        "print('''This one is also a string, but uses three single quotes''')\n",
        "print(\"\"\"Another string, this time uses three double quotes\"\"\")"
      ],
      "metadata": {
        "id": "GjZsGAbPgVvL",
        "colab": {
          "base_uri": "https://localhost:8080/"
        },
        "outputId": "5aa51b6c-9abf-4cd3-bed2-7fe78c7bc238"
      },
      "execution_count": 6,
      "outputs": [
        {
          "output_type": "stream",
          "name": "stdout",
          "text": [
            "This is a string, enclosed by a single quotes\n",
            "This is also a string, enclosed by a double quotes\n",
            "This one is also a string, but uses three single quotes\n",
            "Another string, this time uses three double quotes\n"
          ]
        }
      ]
    },
    {
      "cell_type": "markdown",
      "source": [
        "As we see above, there are 4 types of quotes in Python.\\\n",
        "Let's try to understand them."
      ],
      "metadata": {
        "id": "8-82cpVqhI4c"
      }
    },
    {
      "cell_type": "code",
      "source": [
        "# what if you want to print something containing a single quotes?\n",
        "# easy, just enclose them using double quote!\n",
        "\n",
        "print(\"I need to print this 'single quotes'\")"
      ],
      "metadata": {
        "id": "He9TxKIch9xh",
        "colab": {
          "base_uri": "https://localhost:8080/"
        },
        "outputId": "0dad72fb-1527-44a5-96ba-08713f695b9b"
      },
      "execution_count": 7,
      "outputs": [
        {
          "output_type": "stream",
          "name": "stdout",
          "text": [
            "I need to print this 'single quotes'\n"
          ]
        }
      ]
    },
    {
      "cell_type": "code",
      "source": [
        "# similar when you want to print double quotes,\n",
        "# just enclose them in single quotes\n",
        "\n",
        "print('now I will print this \"double quotes\"')"
      ],
      "metadata": {
        "id": "bxxh7aRxiWsN",
        "colab": {
          "base_uri": "https://localhost:8080/"
        },
        "outputId": "32bc5908-372d-4052-bdf5-6a6f7772e0be"
      },
      "execution_count": 8,
      "outputs": [
        {
          "output_type": "stream",
          "name": "stdout",
          "text": [
            "now I will print this \"double quotes\"\n"
          ]
        }
      ]
    },
    {
      "cell_type": "code",
      "source": [
        "# the thing is, you have to be consistent of which one\n",
        "# is the string, which one is the enclosure.\n",
        "# so you can't use same type of quotes as both string and\n",
        "# enclosure\n",
        "\n",
        "print(\"this will return an \"error\"\")"
      ],
      "metadata": {
        "id": "LrBmmfilidq_",
        "colab": {
          "base_uri": "https://localhost:8080/",
          "height": 131
        },
        "outputId": "80ac3e0c-4f23-47b6-84e2-bf7699c308db"
      },
      "execution_count": 9,
      "outputs": [
        {
          "output_type": "error",
          "ename": "SyntaxError",
          "evalue": "ignored",
          "traceback": [
            "\u001b[0;36m  File \u001b[0;32m\"<ipython-input-9-732188bbedc8>\"\u001b[0;36m, line \u001b[0;32m6\u001b[0m\n\u001b[0;31m    print(\"this will return an \"error\"\")\u001b[0m\n\u001b[0m                                    ^\u001b[0m\n\u001b[0;31mSyntaxError\u001b[0m\u001b[0;31m:\u001b[0m invalid syntax\n"
          ]
        }
      ]
    },
    {
      "cell_type": "code",
      "source": [
        "print('this one will also return an 'error'')"
      ],
      "metadata": {
        "id": "66TeLvIDjwTV",
        "colab": {
          "base_uri": "https://localhost:8080/",
          "height": 131
        },
        "outputId": "b35411d8-9934-45c3-db22-e92074b45657"
      },
      "execution_count": 10,
      "outputs": [
        {
          "output_type": "error",
          "ename": "SyntaxError",
          "evalue": "ignored",
          "traceback": [
            "\u001b[0;36m  File \u001b[0;32m\"<ipython-input-10-98c63c65d7c8>\"\u001b[0;36m, line \u001b[0;32m1\u001b[0m\n\u001b[0;31m    print('this one will also return an 'error'')\u001b[0m\n\u001b[0m                                             ^\u001b[0m\n\u001b[0;31mSyntaxError\u001b[0m\u001b[0;31m:\u001b[0m invalid syntax\n"
          ]
        }
      ]
    },
    {
      "cell_type": "code",
      "source": [
        "print(\"mixing 'this' and \"this\" will also return an error\")"
      ],
      "metadata": {
        "id": "5Awti6h8j2ZF",
        "colab": {
          "base_uri": "https://localhost:8080/",
          "height": 131
        },
        "outputId": "3c848d79-4094-4af6-8032-f5293a202f98"
      },
      "execution_count": 11,
      "outputs": [
        {
          "output_type": "error",
          "ename": "SyntaxError",
          "evalue": "ignored",
          "traceback": [
            "\u001b[0;36m  File \u001b[0;32m\"<ipython-input-11-db145f2fae29>\"\u001b[0;36m, line \u001b[0;32m1\u001b[0m\n\u001b[0;31m    print(\"mixing 'this' and \"this\" will also return an error\")\u001b[0m\n\u001b[0m                                 ^\u001b[0m\n\u001b[0;31mSyntaxError\u001b[0m\u001b[0;31m:\u001b[0m invalid syntax\n"
          ]
        }
      ]
    },
    {
      "cell_type": "code",
      "source": [
        "# so, what if you need to mix between those two quotes?\n",
        "# here is when three quotes come into the stage\n",
        "\n",
        "print('''try to \"print\" this 'sentence' with so \"many\" combination of 'quotes'.''')"
      ],
      "metadata": {
        "id": "r2noI8bwj8Rr",
        "colab": {
          "base_uri": "https://localhost:8080/"
        },
        "outputId": "fe981711-00b3-419b-f73b-a028367474f9"
      },
      "execution_count": 12,
      "outputs": [
        {
          "output_type": "stream",
          "name": "stdout",
          "text": [
            "try to \"print\" this 'sentence' with so \"many\" combination of 'quotes'.\n"
          ]
        }
      ]
    },
    {
      "cell_type": "code",
      "source": [
        "# just be careful that the following one will fail\n",
        "# look at the series of four single quotes at the end\n",
        "print('''try to \"print\" this 'sentence' with so \"many\" combination of 'quotes'''')"
      ],
      "metadata": {
        "id": "9fl78IC0kr8g",
        "colab": {
          "base_uri": "https://localhost:8080/",
          "height": 131
        },
        "outputId": "eb9d708c-d322-4812-b08a-544890508a1f"
      },
      "execution_count": 13,
      "outputs": [
        {
          "output_type": "error",
          "ename": "SyntaxError",
          "evalue": "ignored",
          "traceback": [
            "\u001b[0;36m  File \u001b[0;32m\"<ipython-input-13-36340dda160f>\"\u001b[0;36m, line \u001b[0;32m3\u001b[0m\n\u001b[0;31m    print('''try to \"print\" this 'sentence' with so \"many\" combination of 'quotes'''')\u001b[0m\n\u001b[0m                                                                                      ^\u001b[0m\n\u001b[0;31mSyntaxError\u001b[0m\u001b[0;31m:\u001b[0m EOL while scanning string literal\n"
          ]
        }
      ]
    },
    {
      "cell_type": "code",
      "source": [
        "# you can make variation using three double quotes\n",
        "print(\"\"\"try to \"print\" this 'sentence' with so \"many\" combination of 'quotes'\"\"\")\n",
        "\n",
        "# but again, be careful to not make the code \"confused\" with the enclosures"
      ],
      "metadata": {
        "id": "ooMAVkHRlBof",
        "colab": {
          "base_uri": "https://localhost:8080/"
        },
        "outputId": "be5d5a0c-7945-42b0-e5b4-5cf6846bbb88"
      },
      "execution_count": 14,
      "outputs": [
        {
          "output_type": "stream",
          "name": "stdout",
          "text": [
            "try to \"print\" this 'sentence' with so \"many\" combination of 'quotes'\n"
          ]
        }
      ]
    },
    {
      "cell_type": "code",
      "source": [
        "# the actual useful power of three quotes are multiple lines printing\n",
        "print(\"\"\"this\n",
        "will\n",
        "print\n",
        "several\n",
        "lines\"\"\")"
      ],
      "metadata": {
        "id": "ZjGwGIEFlRRy",
        "colab": {
          "base_uri": "https://localhost:8080/"
        },
        "outputId": "d6772f29-e209-4859-f4dd-888e73c7771d"
      },
      "execution_count": 15,
      "outputs": [
        {
          "output_type": "stream",
          "name": "stdout",
          "text": [
            "this\n",
            "will\n",
            "print\n",
            "several\n",
            "lines\n"
          ]
        }
      ]
    },
    {
      "cell_type": "code",
      "source": [
        "# whereas using one quotes will fail\n",
        "print(\"can\n",
        "you\n",
        "print\n",
        "this\n",
        "without\n",
        "error?\")"
      ],
      "metadata": {
        "id": "w0w77At0lbOK",
        "colab": {
          "base_uri": "https://localhost:8080/",
          "height": 131
        },
        "outputId": "ff5190bc-6889-43e9-b273-36ad6bef097a"
      },
      "execution_count": 16,
      "outputs": [
        {
          "output_type": "error",
          "ename": "SyntaxError",
          "evalue": "ignored",
          "traceback": [
            "\u001b[0;36m  File \u001b[0;32m\"<ipython-input-16-729c51d92a9a>\"\u001b[0;36m, line \u001b[0;32m2\u001b[0m\n\u001b[0;31m    print(\"can\u001b[0m\n\u001b[0m              ^\u001b[0m\n\u001b[0;31mSyntaxError\u001b[0m\u001b[0;31m:\u001b[0m EOL while scanning string literal\n"
          ]
        }
      ]
    },
    {
      "cell_type": "code",
      "source": [
        "# you can write the code in several lines using single quotes\n",
        "# by adding escape character \\ (backslash)\n",
        "# but it won't give newlines to the result\n",
        "\n",
        "print(\"this\\\n",
        "will\\\n",
        "print\\\n",
        "one\\\n",
        "line\")"
      ],
      "metadata": {
        "id": "piLqkkTclkOJ",
        "colab": {
          "base_uri": "https://localhost:8080/"
        },
        "outputId": "ae99b513-f03d-4956-a873-c19aeeff9572"
      },
      "execution_count": 17,
      "outputs": [
        {
          "output_type": "stream",
          "name": "stdout",
          "text": [
            "thiswillprintoneline\n"
          ]
        }
      ]
    },
    {
      "cell_type": "code",
      "source": [
        "# but you can do this workaround\n",
        "\n",
        "print(\"this\\nbackslash n\\nis\\nnewlines\\ncharacter\")"
      ],
      "metadata": {
        "id": "MSzleAGTlqSx",
        "colab": {
          "base_uri": "https://localhost:8080/"
        },
        "outputId": "c7795759-3b4f-433a-fabb-6aea5b05d479"
      },
      "execution_count": 18,
      "outputs": [
        {
          "output_type": "stream",
          "name": "stdout",
          "text": [
            "this\n",
            "backslash n\n",
            "is\n",
            "newlines\n",
            "character\n"
          ]
        }
      ]
    },
    {
      "cell_type": "code",
      "source": [
        "# or this\n",
        "print(\"print\")\n",
        "print(\"several\")\n",
        "print(\"lines\")"
      ],
      "metadata": {
        "id": "Fms4QKcImDrP",
        "colab": {
          "base_uri": "https://localhost:8080/"
        },
        "outputId": "b95c3ea0-430a-4c0b-a053-80af1a5c4710"
      },
      "execution_count": 19,
      "outputs": [
        {
          "output_type": "stream",
          "name": "stdout",
          "text": [
            "print\n",
            "several\n",
            "lines\n"
          ]
        }
      ]
    },
    {
      "cell_type": "markdown",
      "source": [
        "We can do \"addition\" (a.k.a contatenate) operation to the strings using +."
      ],
      "metadata": {
        "id": "9setyNNTnJ8i"
      }
    },
    {
      "cell_type": "code",
      "source": [
        "print(\"please\" + \" run \" + \"this\" + \" \" + \"cell\")\n",
        "print(\"t\" + \"h\" + \"a\" + \"n\" + \"k\" + \"s\" + \"!\")"
      ],
      "metadata": {
        "id": "m3unm-Rfm3SX",
        "colab": {
          "base_uri": "https://localhost:8080/"
        },
        "outputId": "8f00a84a-ebd2-4a78-f57f-ae118539768d"
      },
      "execution_count": 20,
      "outputs": [
        {
          "output_type": "stream",
          "name": "stdout",
          "text": [
            "please run this cell\n",
            "thanks!\n"
          ]
        }
      ]
    },
    {
      "cell_type": "markdown",
      "source": [
        "The third data type is boolean.\\\n",
        "The values are True and False (without quotes).\\\n",
        "Notice that the first letter is uppercase and the others are lowercase.\\\n",
        "true, false, TRUE, FALSE won't work as boolean, because Python will\\\n",
        "interpret them as variables."
      ],
      "metadata": {
        "id": "ZGxrStzzn6NN"
      }
    },
    {
      "cell_type": "code",
      "source": [
        "print(True)"
      ],
      "metadata": {
        "id": "Z4oX2fYdnl7R",
        "colab": {
          "base_uri": "https://localhost:8080/"
        },
        "outputId": "5f29a0e9-6123-4da1-8766-887523ed6095"
      },
      "execution_count": 21,
      "outputs": [
        {
          "output_type": "stream",
          "name": "stdout",
          "text": [
            "True\n"
          ]
        }
      ]
    },
    {
      "cell_type": "code",
      "source": [
        "print(True+2)"
      ],
      "metadata": {
        "colab": {
          "base_uri": "https://localhost:8080/"
        },
        "id": "_dBXPGcfgxlL",
        "outputId": "f26e1bdb-11f4-45de-fa07-dd2e2ecb50d9"
      },
      "execution_count": 22,
      "outputs": [
        {
          "output_type": "stream",
          "name": "stdout",
          "text": [
            "3\n"
          ]
        }
      ]
    },
    {
      "cell_type": "code",
      "source": [
        "print(False + True*3)"
      ],
      "metadata": {
        "colab": {
          "base_uri": "https://localhost:8080/"
        },
        "id": "Rb1xdBF3g3IG",
        "outputId": "0ccbf858-3013-4dbd-b7de-cf79e2c9f953"
      },
      "execution_count": 24,
      "outputs": [
        {
          "output_type": "stream",
          "name": "stdout",
          "text": [
            "3\n"
          ]
        }
      ]
    },
    {
      "cell_type": "code",
      "source": [
        "print(False)"
      ],
      "metadata": {
        "id": "9eY3hEPBoVJw",
        "colab": {
          "base_uri": "https://localhost:8080/"
        },
        "outputId": "6bca61b7-a902-4e2b-b401-832778c839e7"
      },
      "execution_count": 25,
      "outputs": [
        {
          "output_type": "stream",
          "name": "stdout",
          "text": [
            "False\n"
          ]
        }
      ]
    },
    {
      "cell_type": "code",
      "source": [
        "print(true)"
      ],
      "metadata": {
        "id": "dEgVQRNooV0y",
        "colab": {
          "base_uri": "https://localhost:8080/",
          "height": 166
        },
        "outputId": "b8eda839-4148-4748-d610-2b47c93f56c2"
      },
      "execution_count": 26,
      "outputs": [
        {
          "output_type": "error",
          "ename": "NameError",
          "evalue": "ignored",
          "traceback": [
            "\u001b[0;31m---------------------------------------------------------------------------\u001b[0m",
            "\u001b[0;31mNameError\u001b[0m                                 Traceback (most recent call last)",
            "\u001b[0;32m<ipython-input-26-d6f700e50a15>\u001b[0m in \u001b[0;36m<module>\u001b[0;34m\u001b[0m\n\u001b[0;32m----> 1\u001b[0;31m \u001b[0mprint\u001b[0m\u001b[0;34m(\u001b[0m\u001b[0mtrue\u001b[0m\u001b[0;34m)\u001b[0m\u001b[0;34m\u001b[0m\u001b[0;34m\u001b[0m\u001b[0m\n\u001b[0m",
            "\u001b[0;31mNameError\u001b[0m: name 'true' is not defined"
          ]
        }
      ]
    },
    {
      "cell_type": "code",
      "source": [
        "print(false)"
      ],
      "metadata": {
        "id": "oWMV_rx5oWP-",
        "colab": {
          "base_uri": "https://localhost:8080/",
          "height": 166
        },
        "outputId": "7205bfab-f608-4a41-e715-65b928f15204"
      },
      "execution_count": 27,
      "outputs": [
        {
          "output_type": "error",
          "ename": "NameError",
          "evalue": "ignored",
          "traceback": [
            "\u001b[0;31m---------------------------------------------------------------------------\u001b[0m",
            "\u001b[0;31mNameError\u001b[0m                                 Traceback (most recent call last)",
            "\u001b[0;32m<ipython-input-27-1c75371a149b>\u001b[0m in \u001b[0;36m<module>\u001b[0;34m\u001b[0m\n\u001b[0;32m----> 1\u001b[0;31m \u001b[0mprint\u001b[0m\u001b[0;34m(\u001b[0m\u001b[0mfalse\u001b[0m\u001b[0;34m)\u001b[0m\u001b[0;34m\u001b[0m\u001b[0;34m\u001b[0m\u001b[0m\n\u001b[0m",
            "\u001b[0;31mNameError\u001b[0m: name 'false' is not defined"
          ]
        }
      ]
    },
    {
      "cell_type": "code",
      "source": [
        "print(TRUE)"
      ],
      "metadata": {
        "id": "skUnKNn8oW4m",
        "colab": {
          "base_uri": "https://localhost:8080/",
          "height": 166
        },
        "outputId": "fd92f563-e298-48fe-e563-6f81695a2042"
      },
      "execution_count": 28,
      "outputs": [
        {
          "output_type": "error",
          "ename": "NameError",
          "evalue": "ignored",
          "traceback": [
            "\u001b[0;31m---------------------------------------------------------------------------\u001b[0m",
            "\u001b[0;31mNameError\u001b[0m                                 Traceback (most recent call last)",
            "\u001b[0;32m<ipython-input-28-57297e71e9b3>\u001b[0m in \u001b[0;36m<module>\u001b[0;34m\u001b[0m\n\u001b[0;32m----> 1\u001b[0;31m \u001b[0mprint\u001b[0m\u001b[0;34m(\u001b[0m\u001b[0mTRUE\u001b[0m\u001b[0;34m)\u001b[0m\u001b[0;34m\u001b[0m\u001b[0;34m\u001b[0m\u001b[0m\n\u001b[0m",
            "\u001b[0;31mNameError\u001b[0m: name 'TRUE' is not defined"
          ]
        }
      ]
    },
    {
      "cell_type": "code",
      "source": [
        "print(FALSE)"
      ],
      "metadata": {
        "id": "q2gBrqv6oY64",
        "colab": {
          "base_uri": "https://localhost:8080/",
          "height": 166
        },
        "outputId": "c31df89d-42f3-4636-b236-8dea1c0d92e3"
      },
      "execution_count": 29,
      "outputs": [
        {
          "output_type": "error",
          "ename": "NameError",
          "evalue": "ignored",
          "traceback": [
            "\u001b[0;31m---------------------------------------------------------------------------\u001b[0m",
            "\u001b[0;31mNameError\u001b[0m                                 Traceback (most recent call last)",
            "\u001b[0;32m<ipython-input-29-c33e7aa0642e>\u001b[0m in \u001b[0;36m<module>\u001b[0;34m\u001b[0m\n\u001b[0;32m----> 1\u001b[0;31m \u001b[0mprint\u001b[0m\u001b[0;34m(\u001b[0m\u001b[0mFALSE\u001b[0m\u001b[0;34m)\u001b[0m\u001b[0;34m\u001b[0m\u001b[0;34m\u001b[0m\u001b[0m\n\u001b[0m",
            "\u001b[0;31mNameError\u001b[0m: name 'FALSE' is not defined"
          ]
        }
      ]
    },
    {
      "cell_type": "markdown",
      "source": [
        "Python can interpret True and False automatically (without explicit casting) as 1 or 0."
      ],
      "metadata": {
        "id": "s-sNMPKEok9x"
      }
    },
    {
      "cell_type": "code",
      "source": [
        "print(True + 2)"
      ],
      "metadata": {
        "id": "dzWE9cu8oaCF",
        "colab": {
          "base_uri": "https://localhost:8080/"
        },
        "outputId": "43d20ae9-62f5-4cf7-ecd3-13ef8d2df7b9"
      },
      "execution_count": 30,
      "outputs": [
        {
          "output_type": "stream",
          "name": "stdout",
          "text": [
            "3\n"
          ]
        }
      ]
    },
    {
      "cell_type": "code",
      "source": [
        "print(False + True*3)"
      ],
      "metadata": {
        "id": "g_Im095hosHL",
        "colab": {
          "base_uri": "https://localhost:8080/"
        },
        "outputId": "6c367d7a-bf7d-466a-b5b1-216a54026f99"
      },
      "execution_count": 31,
      "outputs": [
        {
          "output_type": "stream",
          "name": "stdout",
          "text": [
            "3\n"
          ]
        }
      ]
    },
    {
      "cell_type": "markdown",
      "source": [
        "But when any non zero numbers are casted as boolean,\\\n",
        "they will return as True (including string type).\n",
        "\n",
        "That's because of this simple logic:\n",
        "* 0 is False\n",
        "* not 0 (literally everything that is not numeric zero) is True"
      ],
      "metadata": {
        "id": "emUB6T-nqy9C"
      }
    },
    {
      "cell_type": "code",
      "source": [
        "print(bool(0))\n",
        "print(bool(1))\n",
        "print(bool(2))\n",
        "print(bool(-2))\n",
        "print(bool(0.2312414))\n",
        "print(bool(\"abc\"))\n",
        "print(bool(\"123\"))\n",
        "print(bool(\"0\"))"
      ],
      "metadata": {
        "id": "FqQQl0qVq8Ae",
        "colab": {
          "base_uri": "https://localhost:8080/"
        },
        "outputId": "272b76eb-408a-4435-a123-cb2d311a328f"
      },
      "execution_count": 32,
      "outputs": [
        {
          "output_type": "stream",
          "name": "stdout",
          "text": [
            "False\n",
            "True\n",
            "True\n",
            "True\n",
            "True\n",
            "True\n",
            "True\n",
            "True\n"
          ]
        }
      ]
    },
    {
      "cell_type": "markdown",
      "source": [
        "Logical expressions also return boolean result."
      ],
      "metadata": {
        "id": "LeABeFPSpONs"
      }
    },
    {
      "cell_type": "code",
      "source": [
        "print(5 > 2)\n",
        "print(5 == 3)\n",
        "print(-4 >= -1)\n",
        "print(-10 <= -10)\n",
        "print(5 == \"5\")\n",
        "print(True > False)\n",
        "print(True and False)\n",
        "print(not (True or False) == (not True and not False))"
      ],
      "metadata": {
        "id": "pNWWpZMIovNm",
        "colab": {
          "base_uri": "https://localhost:8080/"
        },
        "outputId": "ac9c9e7e-432a-4f33-9532-08ca87409f98"
      },
      "execution_count": 33,
      "outputs": [
        {
          "output_type": "stream",
          "name": "stdout",
          "text": [
            "True\n",
            "False\n",
            "False\n",
            "True\n",
            "False\n",
            "True\n",
            "False\n",
            "True\n"
          ]
        }
      ]
    },
    {
      "cell_type": "markdown",
      "source": [
        "Now we will learn how to declare variables.\\\n",
        "In Python, declaring variables is very simple."
      ],
      "metadata": {
        "id": "ms9U5Fyws7Ff"
      }
    },
    {
      "cell_type": "code",
      "source": [
        "a = 5\n",
        "b = \"5\"\n",
        "\n",
        "print(a)\n",
        "print(b)"
      ],
      "metadata": {
        "id": "mTlpW8Rvp6Wn",
        "colab": {
          "base_uri": "https://localhost:8080/"
        },
        "outputId": "40b8bc87-c9c7-46fc-a4c5-7f86b18595ac"
      },
      "execution_count": 34,
      "outputs": [
        {
          "output_type": "stream",
          "name": "stdout",
          "text": [
            "5\n",
            "5\n"
          ]
        }
      ]
    },
    {
      "cell_type": "markdown",
      "source": [
        "We don't need to declare data types as Python will automatically\\\n",
        "assign them depending on how we write them.\n",
        "\n",
        "Run these three cells to compare them."
      ],
      "metadata": {
        "id": "rP82uJIptPtI"
      }
    },
    {
      "cell_type": "code",
      "source": [
        "print(a + 5)"
      ],
      "metadata": {
        "id": "MI9uhHXJtGVy",
        "colab": {
          "base_uri": "https://localhost:8080/"
        },
        "outputId": "3f24172d-ccc0-4778-93f6-6f37ad5098dd"
      },
      "execution_count": 35,
      "outputs": [
        {
          "output_type": "stream",
          "name": "stdout",
          "text": [
            "10\n"
          ]
        }
      ]
    },
    {
      "cell_type": "code",
      "source": [
        "print(b + \"5\")"
      ],
      "metadata": {
        "id": "MZ7xTRiGte53",
        "colab": {
          "base_uri": "https://localhost:8080/"
        },
        "outputId": "0e525949-714a-434c-918c-7f9625352890"
      },
      "execution_count": 36,
      "outputs": [
        {
          "output_type": "stream",
          "name": "stdout",
          "text": [
            "55\n"
          ]
        }
      ]
    },
    {
      "cell_type": "code",
      "source": [
        "print(b + 5)"
      ],
      "metadata": {
        "id": "Px2ttQH8tfxk",
        "colab": {
          "base_uri": "https://localhost:8080/",
          "height": 166
        },
        "outputId": "a56aae94-ed16-4a77-f3d8-c8dc6ed60bda"
      },
      "execution_count": 37,
      "outputs": [
        {
          "output_type": "error",
          "ename": "TypeError",
          "evalue": "ignored",
          "traceback": [
            "\u001b[0;31m---------------------------------------------------------------------------\u001b[0m",
            "\u001b[0;31mTypeError\u001b[0m                                 Traceback (most recent call last)",
            "\u001b[0;32m<ipython-input-37-da6d118d2b05>\u001b[0m in \u001b[0;36m<module>\u001b[0;34m\u001b[0m\n\u001b[0;32m----> 1\u001b[0;31m \u001b[0mprint\u001b[0m\u001b[0;34m(\u001b[0m\u001b[0mb\u001b[0m \u001b[0;34m+\u001b[0m \u001b[0;36m5\u001b[0m\u001b[0;34m)\u001b[0m\u001b[0;34m\u001b[0m\u001b[0;34m\u001b[0m\u001b[0m\n\u001b[0m",
            "\u001b[0;31mTypeError\u001b[0m: can only concatenate str (not \"int\") to str"
          ]
        }
      ]
    },
    {
      "cell_type": "markdown",
      "source": [
        "Variables declaration is case-sensitive."
      ],
      "metadata": {
        "id": "Lk1zCKtbtr4Y"
      }
    },
    {
      "cell_type": "code",
      "source": [
        "c = \"lower c\"\n",
        "C = \"UPPER C\"\n",
        "\n",
        "print(c)\n",
        "print(C)"
      ],
      "metadata": {
        "id": "dcLNSfedtjsk",
        "colab": {
          "base_uri": "https://localhost:8080/"
        },
        "outputId": "bbf33ad4-6553-44fc-ed50-a3cb42dba9fc"
      },
      "execution_count": 38,
      "outputs": [
        {
          "output_type": "stream",
          "name": "stdout",
          "text": [
            "lower c\n",
            "UPPER C\n"
          ]
        }
      ]
    },
    {
      "cell_type": "markdown",
      "source": [
        "To modify a variable, simply rewrite them.\\\n",
        "To delete a variable, use command **del**."
      ],
      "metadata": {
        "id": "98R54Tiyupqy"
      }
    },
    {
      "cell_type": "code",
      "source": [
        "# rewrite variable c\n",
        "c = \"new lower c\"\n",
        "\n",
        "print(c)"
      ],
      "metadata": {
        "id": "e9nY0gsFt8bV",
        "colab": {
          "base_uri": "https://localhost:8080/"
        },
        "outputId": "3471f93b-d82e-467b-bd9c-1e99f83cecd0"
      },
      "execution_count": 39,
      "outputs": [
        {
          "output_type": "stream",
          "name": "stdout",
          "text": [
            "new lower c\n"
          ]
        }
      ]
    },
    {
      "cell_type": "code",
      "source": [
        "# delete variable C\n",
        "del C\n",
        "\n",
        "print(C)"
      ],
      "metadata": {
        "id": "WklS5QkNu0AC",
        "colab": {
          "base_uri": "https://localhost:8080/",
          "height": 201
        },
        "outputId": "b33aa61d-744d-42f8-ccdc-f7e3251da187"
      },
      "execution_count": 40,
      "outputs": [
        {
          "output_type": "error",
          "ename": "NameError",
          "evalue": "ignored",
          "traceback": [
            "\u001b[0;31m---------------------------------------------------------------------------\u001b[0m",
            "\u001b[0;31mNameError\u001b[0m                                 Traceback (most recent call last)",
            "\u001b[0;32m<ipython-input-40-d2f7ec1cb071>\u001b[0m in \u001b[0;36m<module>\u001b[0;34m\u001b[0m\n\u001b[1;32m      2\u001b[0m \u001b[0;32mdel\u001b[0m \u001b[0mC\u001b[0m\u001b[0;34m\u001b[0m\u001b[0;34m\u001b[0m\u001b[0m\n\u001b[1;32m      3\u001b[0m \u001b[0;34m\u001b[0m\u001b[0m\n\u001b[0;32m----> 4\u001b[0;31m \u001b[0mprint\u001b[0m\u001b[0;34m(\u001b[0m\u001b[0mC\u001b[0m\u001b[0;34m)\u001b[0m\u001b[0;34m\u001b[0m\u001b[0;34m\u001b[0m\u001b[0m\n\u001b[0m",
            "\u001b[0;31mNameError\u001b[0m: name 'C' is not defined"
          ]
        }
      ]
    },
    {
      "cell_type": "markdown",
      "source": [
        "# Collection of Objects\n",
        "\n",
        "A collection is an object that contains another objects.\n",
        "\n",
        "The first collection that we will see is *tuple*.\\\n",
        "Tuples are **ordered** collection of objects.\\\n",
        "There are various ways to create tuples."
      ],
      "metadata": {
        "id": "LLbY9snJTkRy"
      }
    },
    {
      "cell_type": "code",
      "source": [
        "# generally, use regular brackets () to create tuples\n",
        "tuple1 = (1, 2, \"three\", 4)\n",
        "tuple2 = tuple((1, True, 1, \"false\"))\n",
        "tuple3 = () # creates an empty tuple\n",
        "print(tuple1)\n",
        "print(tuple2)\n",
        "print(tuple3)"
      ],
      "metadata": {
        "id": "HXCVIo5-u3vo",
        "colab": {
          "base_uri": "https://localhost:8080/"
        },
        "outputId": "2089e6b0-0b37-4032-c32c-0616844600a1"
      },
      "execution_count": 41,
      "outputs": [
        {
          "output_type": "stream",
          "name": "stdout",
          "text": [
            "(1, 2, 'three', 4)\n",
            "(1, True, 1, 'false')\n",
            "()\n"
          ]
        }
      ]
    },
    {
      "cell_type": "markdown",
      "source": [
        "Objects or elements in tuples can be called by using index.\\\n",
        "Note that Python index starts from 0.\\\n",
        "Last element can be indexed as -1."
      ],
      "metadata": {
        "id": "eEVCTO5KUs-2"
      }
    },
    {
      "cell_type": "code",
      "source": [
        "print(tuple1[1])\n",
        "print(tuple2[1])\n",
        "print(tuple2[-1])"
      ],
      "metadata": {
        "id": "VxwylaXtUnpm",
        "colab": {
          "base_uri": "https://localhost:8080/"
        },
        "outputId": "ef6c1321-2fa6-4d8e-eb74-290e88926c7f"
      },
      "execution_count": 42,
      "outputs": [
        {
          "output_type": "stream",
          "name": "stdout",
          "text": [
            "2\n",
            "True\n",
            "false\n"
          ]
        }
      ]
    },
    {
      "cell_type": "markdown",
      "source": [
        "What if we call an element that is out of index range?"
      ],
      "metadata": {
        "id": "NGsDZ0NJVBMy"
      }
    },
    {
      "cell_type": "code",
      "source": [
        "print(tuple1[5])"
      ],
      "metadata": {
        "id": "5huyI0PsU-ZE",
        "colab": {
          "base_uri": "https://localhost:8080/",
          "height": 166
        },
        "outputId": "19025da4-3ce6-4b43-bd75-7d19da655f9d"
      },
      "execution_count": 43,
      "outputs": [
        {
          "output_type": "error",
          "ename": "IndexError",
          "evalue": "ignored",
          "traceback": [
            "\u001b[0;31m---------------------------------------------------------------------------\u001b[0m",
            "\u001b[0;31mIndexError\u001b[0m                                Traceback (most recent call last)",
            "\u001b[0;32m<ipython-input-43-3988ab6728b0>\u001b[0m in \u001b[0;36m<module>\u001b[0;34m\u001b[0m\n\u001b[0;32m----> 1\u001b[0;31m \u001b[0mprint\u001b[0m\u001b[0;34m(\u001b[0m\u001b[0mtuple1\u001b[0m\u001b[0;34m[\u001b[0m\u001b[0;36m5\u001b[0m\u001b[0;34m]\u001b[0m\u001b[0;34m)\u001b[0m\u001b[0;34m\u001b[0m\u001b[0;34m\u001b[0m\u001b[0m\n\u001b[0m",
            "\u001b[0;31mIndexError\u001b[0m: tuple index out of range"
          ]
        }
      ]
    },
    {
      "cell_type": "markdown",
      "source": [
        "What if we call an element from empty tuple?"
      ],
      "metadata": {
        "id": "H4zNl6yNVSqM"
      }
    },
    {
      "cell_type": "code",
      "source": [
        "print(tuple3[0])"
      ],
      "metadata": {
        "id": "g4SXuHGRVJzd",
        "colab": {
          "base_uri": "https://localhost:8080/",
          "height": 166
        },
        "outputId": "5c2be9af-b51a-4808-b4d8-6ed49eadb9c6"
      },
      "execution_count": 44,
      "outputs": [
        {
          "output_type": "error",
          "ename": "IndexError",
          "evalue": "ignored",
          "traceback": [
            "\u001b[0;31m---------------------------------------------------------------------------\u001b[0m",
            "\u001b[0;31mIndexError\u001b[0m                                Traceback (most recent call last)",
            "\u001b[0;32m<ipython-input-44-8760ad52095c>\u001b[0m in \u001b[0;36m<module>\u001b[0;34m\u001b[0m\n\u001b[0;32m----> 1\u001b[0;31m \u001b[0mprint\u001b[0m\u001b[0;34m(\u001b[0m\u001b[0mtuple3\u001b[0m\u001b[0;34m[\u001b[0m\u001b[0;36m0\u001b[0m\u001b[0;34m]\u001b[0m\u001b[0;34m)\u001b[0m\u001b[0;34m\u001b[0m\u001b[0;34m\u001b[0m\u001b[0m\n\u001b[0m",
            "\u001b[0;31mIndexError\u001b[0m: tuple index out of range"
          ]
        }
      ]
    },
    {
      "cell_type": "markdown",
      "source": [
        "Tuples are immutable.\\\n",
        "Once a tuple is created, we can't modify it."
      ],
      "metadata": {
        "id": "41BzeR-QVy4U"
      }
    },
    {
      "cell_type": "code",
      "source": [
        "# try to run this\n",
        "tuple4 = ('a', 'b', 'c')\n",
        "tuple4[0] = 'A'\n",
        "print(tuple4)"
      ],
      "metadata": {
        "id": "kpi0i9lGVe9d",
        "colab": {
          "base_uri": "https://localhost:8080/",
          "height": 218
        },
        "outputId": "e9bbc040-3ac0-4f84-d8df-e1b2d270abe9"
      },
      "execution_count": 45,
      "outputs": [
        {
          "output_type": "error",
          "ename": "TypeError",
          "evalue": "ignored",
          "traceback": [
            "\u001b[0;31m---------------------------------------------------------------------------\u001b[0m",
            "\u001b[0;31mTypeError\u001b[0m                                 Traceback (most recent call last)",
            "\u001b[0;32m<ipython-input-45-86c1d1aa9793>\u001b[0m in \u001b[0;36m<module>\u001b[0;34m\u001b[0m\n\u001b[1;32m      1\u001b[0m \u001b[0;31m# try to run this\u001b[0m\u001b[0;34m\u001b[0m\u001b[0;34m\u001b[0m\u001b[0;34m\u001b[0m\u001b[0m\n\u001b[1;32m      2\u001b[0m \u001b[0mtuple4\u001b[0m \u001b[0;34m=\u001b[0m \u001b[0;34m(\u001b[0m\u001b[0;34m'a'\u001b[0m\u001b[0;34m,\u001b[0m \u001b[0;34m'b'\u001b[0m\u001b[0;34m,\u001b[0m \u001b[0;34m'c'\u001b[0m\u001b[0;34m)\u001b[0m\u001b[0;34m\u001b[0m\u001b[0;34m\u001b[0m\u001b[0m\n\u001b[0;32m----> 3\u001b[0;31m \u001b[0mtuple4\u001b[0m\u001b[0;34m[\u001b[0m\u001b[0;36m0\u001b[0m\u001b[0;34m]\u001b[0m \u001b[0;34m=\u001b[0m \u001b[0;34m'A'\u001b[0m\u001b[0;34m\u001b[0m\u001b[0;34m\u001b[0m\u001b[0m\n\u001b[0m\u001b[1;32m      4\u001b[0m \u001b[0mprint\u001b[0m\u001b[0;34m(\u001b[0m\u001b[0mtuple4\u001b[0m\u001b[0;34m)\u001b[0m\u001b[0;34m\u001b[0m\u001b[0;34m\u001b[0m\u001b[0m\n",
            "\u001b[0;31mTypeError\u001b[0m: 'tuple' object does not support item assignment"
          ]
        }
      ]
    },
    {
      "cell_type": "markdown",
      "source": [
        "The only way to \"modify\" a tuple is by declaring it as a new tuple."
      ],
      "metadata": {
        "id": "sROtNDwCW00_"
      }
    },
    {
      "cell_type": "code",
      "source": [
        "tuple4 = ('a', 'b', 'c')\n",
        "tuple4 = ('A', 'b', 'c')\n",
        "# or you can also do this\n",
        "# tuple4 = ('A',) + tuple4[1:]\n",
        "print(tuple4)"
      ],
      "metadata": {
        "id": "PV1IgwnlWwI_",
        "colab": {
          "base_uri": "https://localhost:8080/"
        },
        "outputId": "72770231-373f-48dd-cff5-4684be78be26"
      },
      "execution_count": 46,
      "outputs": [
        {
          "output_type": "stream",
          "name": "stdout",
          "text": [
            "('A', 'b', 'c')\n"
          ]
        }
      ]
    },
    {
      "cell_type": "markdown",
      "source": [
        "Since tuples are ordered collection, we can sort them using sorted() function."
      ],
      "metadata": {
        "id": "GXQ-tJKbXorv"
      }
    },
    {
      "cell_type": "code",
      "source": [
        "tuple5 = (1, 30000, -1)\n",
        "# print these three lines and figure out the differences\n",
        "print(sorted(tuple5))\n",
        "print(sorted(tuple5, reverse = True))\n",
        "print(tuple5)"
      ],
      "metadata": {
        "id": "CL8n-oPYXHI5",
        "colab": {
          "base_uri": "https://localhost:8080/"
        },
        "outputId": "afdf2c9e-7ecb-4ca0-c8b5-ea5bba351c0a"
      },
      "execution_count": 49,
      "outputs": [
        {
          "output_type": "stream",
          "name": "stdout",
          "text": [
            "[-1, 1, 30000]\n",
            "[30000, 1, -1]\n",
            "(1, 30000, -1)\n"
          ]
        }
      ]
    },
    {
      "cell_type": "markdown",
      "source": [
        "The next collection is *set*.\n",
        "\n",
        "Sets are **unordered** and **unique** collection of objects.\\\n",
        "There are various ways to create sets."
      ],
      "metadata": {
        "id": "OlYKqIXvYCIN"
      }
    },
    {
      "cell_type": "code",
      "source": [
        "# generally, use curly brackets {} to create sets\n",
        "set1 = {\"three\", 1, 4, 2}\n",
        "set2 = set((1, \"1\", 1, 2))\n",
        "set3 = {} # creates an empty set\n",
        "print(set1)\n",
        "print(set2)\n",
        "print(set3)"
      ],
      "metadata": {
        "id": "e0W73NDFX8ON",
        "colab": {
          "base_uri": "https://localhost:8080/"
        },
        "outputId": "fb4a82da-99c8-4cc3-a675-d8a666dc672d"
      },
      "execution_count": 50,
      "outputs": [
        {
          "output_type": "stream",
          "name": "stdout",
          "text": [
            "{1, 'three', 2, 4}\n",
            "{1, 2, '1'}\n",
            "{}\n"
          ]
        }
      ]
    },
    {
      "cell_type": "markdown",
      "source": [
        "Since sets are unordered collection, we can't call the element by index."
      ],
      "metadata": {
        "id": "5IVwMgnyYz-T"
      }
    },
    {
      "cell_type": "code",
      "source": [
        "print(set1[2])"
      ],
      "metadata": {
        "id": "za4CPauTYwDu",
        "colab": {
          "base_uri": "https://localhost:8080/",
          "height": 166
        },
        "outputId": "b508a022-5948-44d4-e68a-5e9b4b5dbba7"
      },
      "execution_count": 51,
      "outputs": [
        {
          "output_type": "error",
          "ename": "TypeError",
          "evalue": "ignored",
          "traceback": [
            "\u001b[0;31m---------------------------------------------------------------------------\u001b[0m",
            "\u001b[0;31mTypeError\u001b[0m                                 Traceback (most recent call last)",
            "\u001b[0;32m<ipython-input-51-012ecff96aad>\u001b[0m in \u001b[0;36m<module>\u001b[0;34m\u001b[0m\n\u001b[0;32m----> 1\u001b[0;31m \u001b[0mprint\u001b[0m\u001b[0;34m(\u001b[0m\u001b[0mset1\u001b[0m\u001b[0;34m[\u001b[0m\u001b[0;36m2\u001b[0m\u001b[0;34m]\u001b[0m\u001b[0;34m)\u001b[0m\u001b[0;34m\u001b[0m\u001b[0;34m\u001b[0m\u001b[0m\n\u001b[0m",
            "\u001b[0;31mTypeError\u001b[0m: 'set' object is not subscriptable"
          ]
        }
      ]
    },
    {
      "cell_type": "markdown",
      "source": [
        "Sets are mutable: the elements inside a set can be modified.\n",
        "\n",
        "Common methods are **.add()**, **.discard()**, and **.clear()**."
      ],
      "metadata": {
        "id": "8EdK_D-oZBCJ"
      }
    },
    {
      "cell_type": "code",
      "source": [
        "set4 = {3, 5, \"ten\", False}\n",
        "\n",
        "set4.add(9)\n",
        "print(set4)\n",
        "\n",
        "set4.discard(\"ten\")\n",
        "print(set4)\n",
        "\n",
        "set4.discard(\"huh?\")\n",
        "print(set4)\n",
        "\n",
        "set4.clear()\n",
        "print(set4)"
      ],
      "metadata": {
        "id": "HcCqxx_7Y5_i",
        "colab": {
          "base_uri": "https://localhost:8080/"
        },
        "outputId": "9af47645-66ac-4873-fad9-48df58fde076"
      },
      "execution_count": 52,
      "outputs": [
        {
          "output_type": "stream",
          "name": "stdout",
          "text": [
            "{False, 3, 5, 9, 'ten'}\n",
            "{False, 3, 5, 9}\n",
            "{False, 3, 5, 9}\n",
            "set()\n"
          ]
        }
      ]
    },
    {
      "cell_type": "markdown",
      "source": [
        "Sets in Python also follow set operations like mathematical sets.\\\n",
        "Try to find the reference and explore it by yourself!"
      ],
      "metadata": {
        "id": "SWtCo_HXaQFq"
      }
    },
    {
      "cell_type": "markdown",
      "source": [
        "The next collections are *dictionary*.\\\n",
        "This collection is key-value pair of objects."
      ],
      "metadata": {
        "id": "FIud_yKKatw-"
      }
    },
    {
      "cell_type": "code",
      "source": [
        "# dictionaries also use curly brackets {} to be created\n",
        "\n",
        "luffy = {\n",
        "    \"Full Name\": \"Monkey D. Luffy\",\n",
        "    \"Occupation\": \"Pirate\",\n",
        "    \"Age\": 19,\n",
        "    \"Origin\": \"East Blue\"\n",
        "}\n",
        "\n",
        "print(luffy[\"Full Name\"])\n",
        "print(luffy[\"Age\"])"
      ],
      "metadata": {
        "id": "d86zQpklZwx_",
        "colab": {
          "base_uri": "https://localhost:8080/"
        },
        "outputId": "bae2bbab-9c21-4c88-d9c4-bb2ab330c35e"
      },
      "execution_count": 53,
      "outputs": [
        {
          "output_type": "stream",
          "name": "stdout",
          "text": [
            "Monkey D. Luffy\n",
            "19\n"
          ]
        }
      ]
    },
    {
      "cell_type": "markdown",
      "source": [
        "What if we call non existing key from a dictionary?"
      ],
      "metadata": {
        "id": "WYf-DyF8blsa"
      }
    },
    {
      "cell_type": "code",
      "source": [
        "print(luffy[\"Devil Fruit\"])"
      ],
      "metadata": {
        "id": "Qizbt8qFbRvT",
        "colab": {
          "base_uri": "https://localhost:8080/",
          "height": 166
        },
        "outputId": "758c6806-7606-46ac-ecb4-13dcb3cda711"
      },
      "execution_count": 54,
      "outputs": [
        {
          "output_type": "error",
          "ename": "KeyError",
          "evalue": "ignored",
          "traceback": [
            "\u001b[0;31m---------------------------------------------------------------------------\u001b[0m",
            "\u001b[0;31mKeyError\u001b[0m                                  Traceback (most recent call last)",
            "\u001b[0;32m<ipython-input-54-9087e78e1ac1>\u001b[0m in \u001b[0;36m<module>\u001b[0;34m\u001b[0m\n\u001b[0;32m----> 1\u001b[0;31m \u001b[0mprint\u001b[0m\u001b[0;34m(\u001b[0m\u001b[0mluffy\u001b[0m\u001b[0;34m[\u001b[0m\u001b[0;34m\"Devil Fruit\"\u001b[0m\u001b[0;34m]\u001b[0m\u001b[0;34m)\u001b[0m\u001b[0;34m\u001b[0m\u001b[0;34m\u001b[0m\u001b[0m\n\u001b[0m",
            "\u001b[0;31mKeyError\u001b[0m: 'Devil Fruit'"
          ]
        }
      ]
    },
    {
      "cell_type": "markdown",
      "source": [
        "The last type of collection that we will learn is the ones that we will use the most: *list*.\n",
        "\n",
        "Lists are **ordered** and **mutable** colletion of objects.\\\n",
        "There are various ways to create a list."
      ],
      "metadata": {
        "id": "xtmw3HXec4A_"
      }
    },
    {
      "cell_type": "code",
      "source": [
        "# generally, use square brackets [] to create lists\n",
        "list1 = [1, 2, 3, 4, 3, 2, 1]\n",
        "list2 = list((\"1\", \"2\", 1, 2))\n",
        "list3 = [] # creates an empty list\n",
        "print(list1)\n",
        "print(list2)\n",
        "print(list3)"
      ],
      "metadata": {
        "id": "eJ-5pNqmcdGo",
        "colab": {
          "base_uri": "https://localhost:8080/"
        },
        "outputId": "faa6c672-d705-417e-b990-2d8e5c134829"
      },
      "execution_count": 55,
      "outputs": [
        {
          "output_type": "stream",
          "name": "stdout",
          "text": [
            "[1, 2, 3, 4, 3, 2, 1]\n",
            "['1', '2', 1, 2]\n",
            "[]\n"
          ]
        }
      ]
    },
    {
      "cell_type": "markdown",
      "source": [
        "Since lists are ordered, we can call them by index.\\\n",
        "We can also sort them in some order."
      ],
      "metadata": {
        "id": "10S1IMZsdqLd"
      }
    },
    {
      "cell_type": "code",
      "source": [
        "print(list1[5])\n",
        "print(sorted(list1))"
      ],
      "metadata": {
        "id": "qKygdUzWdd1W",
        "colab": {
          "base_uri": "https://localhost:8080/"
        },
        "outputId": "0eefd6cf-4d1d-49d0-eb41-70c760404de7"
      },
      "execution_count": 56,
      "outputs": [
        {
          "output_type": "stream",
          "name": "stdout",
          "text": [
            "2\n",
            "[1, 1, 2, 2, 3, 3, 4]\n"
          ]
        }
      ]
    },
    {
      "cell_type": "markdown",
      "source": [
        "Lists are mutable, meaning we can modify the elements inside it.\\\n",
        "We can do direct declaration to any indexed elements, or we can put several methods there."
      ],
      "metadata": {
        "id": "5utqSmTAd34A"
      }
    },
    {
      "cell_type": "code",
      "source": [
        "# direct re-declaration\n",
        "A = [1, 2, 3]\n",
        "A[0] = 3\n",
        "print(A)\n",
        "\n",
        "# use .append() method\n",
        "A.append(4)\n",
        "print(A)\n",
        "\n",
        "# use .remove() method\n",
        "A.remove(3)\n",
        "print(A)\n",
        "\n",
        "# use del command\n",
        "del A[1]\n",
        "print(A)\n",
        "\n",
        "# use + operator\n",
        "A = A + [10, 12, 13, 14]\n",
        "print(A)\n",
        "\n",
        "# use .pop() method (what is it?)\n",
        "A.pop(0)\n",
        "print(A)"
      ],
      "metadata": {
        "id": "E_hy_xUidzNC",
        "colab": {
          "base_uri": "https://localhost:8080/"
        },
        "outputId": "9a0899a8-6523-4ec8-de00-675187e657d3"
      },
      "execution_count": 57,
      "outputs": [
        {
          "output_type": "stream",
          "name": "stdout",
          "text": [
            "[3, 2, 3]\n",
            "[3, 2, 3, 4]\n",
            "[2, 3, 4]\n",
            "[2, 4]\n",
            "[2, 4, 10, 12, 13, 14]\n",
            "[4, 10, 12, 13, 14]\n"
          ]
        }
      ]
    },
    {
      "cell_type": "markdown",
      "source": [
        "To print subset from lists (also working for tuples), we can slice the lists."
      ],
      "metadata": {
        "id": "n5S7Izd8fO14"
      }
    },
    {
      "cell_type": "code",
      "source": [
        "B = [\"zero\", \"one\", \"two\", \"three\", \"four\", \"five\"]\n",
        "\n",
        "# can you figure out what happen on each line?\n",
        "print(B)\n",
        "print(B[:])\n",
        "print(B[1:3])\n",
        "print(B[:3])\n",
        "print(B[1:])\n",
        "print(B[:-2])\n",
        "print(B[::2])\n",
        "print(B[::-1])"
      ],
      "metadata": {
        "id": "_U5h_2EXd_yO",
        "colab": {
          "base_uri": "https://localhost:8080/"
        },
        "outputId": "7df064d6-8042-47c1-b82d-ef6d87cd4af0"
      },
      "execution_count": 58,
      "outputs": [
        {
          "output_type": "stream",
          "name": "stdout",
          "text": [
            "['zero', 'one', 'two', 'three', 'four', 'five']\n",
            "['zero', 'one', 'two', 'three', 'four', 'five']\n",
            "['one', 'two']\n",
            "['zero', 'one', 'two']\n",
            "['one', 'two', 'three', 'four', 'five']\n",
            "['zero', 'one', 'two', 'three']\n",
            "['zero', 'two', 'four']\n",
            "['five', 'four', 'three', 'two', 'one', 'zero']\n"
          ]
        }
      ]
    },
    {
      "cell_type": "markdown",
      "source": [
        "# Conditions\n",
        "\n",
        "We will learn how to use **if**, **elif**, and **else** here.\n",
        "\n",
        "First, let's start with **if**."
      ],
      "metadata": {
        "id": "MOiekRZdoMP8"
      }
    },
    {
      "cell_type": "code",
      "source": [
        "a = 5\n",
        "\n",
        "if a > 3:\n",
        "  # indentation is mandatory here\n",
        "  print(f\"{a} is greater than 3\")\n",
        "\n",
        "# actually you can also do it in one line\n",
        "# if a > 3: print(f\"{a} is greater than 3\")"
      ],
      "metadata": {
        "id": "oNoXbJ9ooLgZ",
        "colab": {
          "base_uri": "https://localhost:8080/"
        },
        "outputId": "88f00dbd-dbea-4719-d4a7-46513134eb99"
      },
      "execution_count": 59,
      "outputs": [
        {
          "output_type": "stream",
          "name": "stdout",
          "text": [
            "5 is greater than 3\n"
          ]
        }
      ]
    },
    {
      "cell_type": "markdown",
      "source": [
        "Compare it with this."
      ],
      "metadata": {
        "id": "k8l0tLWWoow6"
      }
    },
    {
      "cell_type": "code",
      "source": [
        "a = 5\n",
        "\n",
        "if a > 10:\n",
        "  print(f\"{a} is greater than 10\")"
      ],
      "metadata": {
        "id": "sAnZNh2rorG9"
      },
      "execution_count": 60,
      "outputs": []
    },
    {
      "cell_type": "markdown",
      "source": [
        "We can define multiple conditions by using **if** and **elif**."
      ],
      "metadata": {
        "id": "HyhJk2rroxfA"
      }
    },
    {
      "cell_type": "code",
      "source": [
        "b = 10\n",
        "\n",
        "if b < 5:\n",
        "  print(f\"{b} is less than 5\")\n",
        "elif b < 15:\n",
        "  print(f\"{b} is less than 15\")\n",
        "elif b < 25:\n",
        "  print(f\"{b} is less than 25\")"
      ],
      "metadata": {
        "id": "XXdgCogToqN3",
        "colab": {
          "base_uri": "https://localhost:8080/"
        },
        "outputId": "d74e71e1-da7e-48ef-943e-f7f84f01fcb3"
      },
      "execution_count": 61,
      "outputs": [
        {
          "output_type": "stream",
          "name": "stdout",
          "text": [
            "10 is less than 15\n"
          ]
        }
      ]
    },
    {
      "cell_type": "markdown",
      "source": [
        "As we can see above, if one condition is fulfilled either in **if** or in one of **elif**s,\\\n",
        "the conditional checking ends.\\\n",
        "So though b = 10 is also less than 25 (second **elif**), it won't be executed anymore."
      ],
      "metadata": {
        "id": "Seznx5YwpFmi"
      }
    },
    {
      "cell_type": "markdown",
      "source": [
        "Last, we have **else** when any **if** or **elif** conditions don't meet."
      ],
      "metadata": {
        "id": "emJUyrWEpYkR"
      }
    },
    {
      "cell_type": "code",
      "source": [
        "c = 25\n",
        "\n",
        "# assuming c is always integer\n",
        "if c%2 == 0:\n",
        "  print(f\"{c} is an even integer\")\n",
        "else:\n",
        "  print(f\"{c} is an odd integer\")\n",
        "\n",
        "# try to do the variation using elif"
      ],
      "metadata": {
        "id": "_xl-6bE5pbQR",
        "colab": {
          "base_uri": "https://localhost:8080/"
        },
        "outputId": "06b10cb0-8c91-48bb-e203-e0e65279b9d6"
      },
      "execution_count": 62,
      "outputs": [
        {
          "output_type": "stream",
          "name": "stdout",
          "text": [
            "25 is an odd integer\n"
          ]
        }
      ]
    },
    {
      "cell_type": "markdown",
      "source": [
        "# Looping\n",
        "\n",
        "Looping is the way to iterate some tasks through some iteration rules.\n",
        "\n",
        "First type of loop is **for**."
      ],
      "metadata": {
        "id": "-lJYlLs0g_2Z"
      }
    },
    {
      "cell_type": "code",
      "source": [
        "for i in [1,2,3,4,5]:\n",
        "  # indentation is mandatory\n",
        "  print(i)"
      ],
      "metadata": {
        "id": "85eb5osjf3H4",
        "colab": {
          "base_uri": "https://localhost:8080/"
        },
        "outputId": "01f95dd2-66b9-4b93-f48a-1d299fa3884f"
      },
      "execution_count": 63,
      "outputs": [
        {
          "output_type": "stream",
          "name": "stdout",
          "text": [
            "1\n",
            "2\n",
            "3\n",
            "4\n",
            "5\n"
          ]
        }
      ]
    },
    {
      "cell_type": "markdown",
      "source": [
        "**For** loops through any iterables, like lists, tuples, sets, etc.\\\n",
        "For unordered collection like sets, it will loop through set elements sorting and non duplicated."
      ],
      "metadata": {
        "id": "l79ZTwd_l0uq"
      }
    },
    {
      "cell_type": "code",
      "source": [
        "for j in (3,5,7):\n",
        "  print(j + 5)"
      ],
      "metadata": {
        "id": "c7LY1BuVlpRM",
        "colab": {
          "base_uri": "https://localhost:8080/"
        },
        "outputId": "83fa275b-1427-49b7-867f-10c571b73c15"
      },
      "execution_count": 64,
      "outputs": [
        {
          "output_type": "stream",
          "name": "stdout",
          "text": [
            "8\n",
            "10\n",
            "12\n"
          ]
        }
      ]
    },
    {
      "cell_type": "code",
      "source": [
        "for k in {4,1,3,1,3}:\n",
        "  print(k)"
      ],
      "metadata": {
        "id": "vmxe5xHhmDeD",
        "colab": {
          "base_uri": "https://localhost:8080/"
        },
        "outputId": "49a70f16-32a6-43b8-9872-43959012b43f"
      },
      "execution_count": 65,
      "outputs": [
        {
          "output_type": "stream",
          "name": "stdout",
          "text": [
            "1\n",
            "3\n",
            "4\n"
          ]
        }
      ]
    },
    {
      "cell_type": "markdown",
      "source": [
        "We can also print the index using enumerate() function.\\\n",
        "It will return as tuple (index, item).\\\n",
        "We can also directly separate between index and item by calling them both in the beginning."
      ],
      "metadata": {
        "id": "eT7IOd4cmoxL"
      }
    },
    {
      "cell_type": "code",
      "source": [
        "for m in enumerate([\"a\", \"b\", \"c\"]):\n",
        "  print(m)"
      ],
      "metadata": {
        "id": "E940LZGgmNHu",
        "colab": {
          "base_uri": "https://localhost:8080/"
        },
        "outputId": "0c978823-d3c3-46f3-d0b8-ba16ec30350d"
      },
      "execution_count": 66,
      "outputs": [
        {
          "output_type": "stream",
          "name": "stdout",
          "text": [
            "(0, 'a')\n",
            "(1, 'b')\n",
            "(2, 'c')\n"
          ]
        }
      ]
    },
    {
      "cell_type": "code",
      "source": [
        "for (idx, x) in enumerate([\"a\", \"b\", \"c\"]):\n",
        "  print(f\"The element at index {idx} is {x}\")"
      ],
      "metadata": {
        "id": "By796rACm_I6",
        "colab": {
          "base_uri": "https://localhost:8080/"
        },
        "outputId": "342d8316-32b6-40ff-a315-2346cfea52ff"
      },
      "execution_count": 67,
      "outputs": [
        {
          "output_type": "stream",
          "name": "stdout",
          "text": [
            "The element at index 0 is a\n",
            "The element at index 1 is b\n",
            "The element at index 2 is c\n"
          ]
        }
      ]
    },
    {
      "cell_type": "markdown",
      "source": [
        "We can also do nested for: for inside a for."
      ],
      "metadata": {
        "id": "9Y0XKN30nZNd"
      }
    },
    {
      "cell_type": "code",
      "source": [
        "A = [2, 3]\n",
        "B = [4, 5]\n",
        "\n",
        "for a in A:\n",
        "  for b in B:\n",
        "    print(f\"{a} times {b} equals to {a*b}\")"
      ],
      "metadata": {
        "id": "D-0fiSQPmykF",
        "colab": {
          "base_uri": "https://localhost:8080/"
        },
        "outputId": "6535c140-247d-49ad-c789-7cece1ecf717"
      },
      "execution_count": 68,
      "outputs": [
        {
          "output_type": "stream",
          "name": "stdout",
          "text": [
            "2 times 4 equals to 8\n",
            "2 times 5 equals to 10\n",
            "3 times 4 equals to 12\n",
            "3 times 5 equals to 15\n"
          ]
        }
      ]
    },
    {
      "cell_type": "markdown",
      "source": [
        "Next kind of looping is **while**.\n",
        "\n",
        "**For** loops through an iterable object, but **while** loops through some condition."
      ],
      "metadata": {
        "id": "oKXUoLpenz70"
      }
    },
    {
      "cell_type": "code",
      "source": [
        "a = 1\n",
        "\n",
        "while a <= 3:\n",
        "  print(a)\n",
        "  a += 1 # this is equivalent to a = a + 1"
      ],
      "metadata": {
        "id": "YJtr0dWFnlJ_",
        "colab": {
          "base_uri": "https://localhost:8080/"
        },
        "outputId": "59aa9b43-f34a-4c46-a8fc-40eb02c2cffc"
      },
      "execution_count": 69,
      "outputs": [
        {
          "output_type": "stream",
          "name": "stdout",
          "text": [
            "1\n",
            "2\n",
            "3\n"
          ]
        }
      ]
    },
    {
      "cell_type": "markdown",
      "source": [
        "As we see there, loop will continue to happen as long as the condition meets.\\\n",
        "When the condition no longer meets (when a = 4), the loop stops."
      ],
      "metadata": {
        "id": "HDNcjk2IqmQt"
      }
    },
    {
      "cell_type": "markdown",
      "source": [
        "As **while** will execute when the condition is true, putting **True** as the condition\\\n",
        "will result on infinite loop.\n",
        "\n",
        "To make this bearable, I will put sleep command here so it won't write lines crazily.\\\n",
        "To stop the loop, simply press the stop button."
      ],
      "metadata": {
        "id": "KLHxS5zYq55y"
      }
    },
    {
      "cell_type": "code",
      "source": [
        "import time\n",
        "\n",
        "while True:\n",
        "  print(1)\n",
        "  time.sleep(1)"
      ],
      "metadata": {
        "id": "fZeZvRs4qkqv"
      },
      "execution_count": null,
      "outputs": []
    },
    {
      "cell_type": "markdown",
      "source": [
        "A fun example of while True is making Python clock."
      ],
      "metadata": {
        "id": "X6l9uDc4fHce"
      }
    },
    {
      "cell_type": "code",
      "source": [
        "import time\n",
        "import datetime\n",
        "\n",
        "while True: \n",
        "  print(f\"\\r {datetime.datetime.now().strftime('%H:%M:%S')}\", end = \"\") \n",
        "  time.sleep(1)"
      ],
      "metadata": {
        "id": "JWTDkADhfXvf",
        "colab": {
          "base_uri": "https://localhost:8080/"
        },
        "outputId": "9055c500-d4c4-4156-d4ac-71ce4a19cbb8"
      },
      "execution_count": null,
      "outputs": [
        {
          "output_type": "stream",
          "name": "stdout",
          "text": [
            " 14:21:05"
          ]
        }
      ]
    },
    {
      "cell_type": "markdown",
      "source": [
        "There is another way to stop the loop: using **break**.\n",
        "\n",
        "Let's say we want to know the smallest positive integer $n$ such that $2^n$ is greater than 1 billion.\\\n",
        "Using \"normal\" while, we can do this."
      ],
      "metadata": {
        "id": "sfD7wWFWso0y"
      }
    },
    {
      "cell_type": "code",
      "source": [
        "n = 1\n",
        "\n",
        "while 2**n <= 1000000000:\n",
        "  n += 1\n",
        "\n",
        "print(n)"
      ],
      "metadata": {
        "id": "kjUYVmbzrj6Z"
      },
      "execution_count": null,
      "outputs": []
    },
    {
      "cell_type": "markdown",
      "source": [
        "Using while True with break, we can do this."
      ],
      "metadata": {
        "id": "QHbK-W19tcY4"
      }
    },
    {
      "cell_type": "code",
      "source": [
        "n = 1\n",
        "\n",
        "while True:\n",
        "  if 2**n > 1000000000:\n",
        "    break\n",
        "  \n",
        "  # this line below will not be executed when break happens\n",
        "  n += 1\n",
        "\n",
        "print(n)"
      ],
      "metadata": {
        "id": "_BIbZ6U3tPqY"
      },
      "execution_count": null,
      "outputs": []
    },
    {
      "cell_type": "markdown",
      "source": [
        "Though they look similar, but **while True with break** actually can cater more complex cases.\\\n",
        "Can you think of cases that will suit **while True with break** more?"
      ],
      "metadata": {
        "id": "9zV1tUoxuQ4Y"
      }
    },
    {
      "cell_type": "code",
      "source": [],
      "metadata": {
        "id": "9_AUum3MtuAc"
      },
      "execution_count": null,
      "outputs": []
    }
  ]
}